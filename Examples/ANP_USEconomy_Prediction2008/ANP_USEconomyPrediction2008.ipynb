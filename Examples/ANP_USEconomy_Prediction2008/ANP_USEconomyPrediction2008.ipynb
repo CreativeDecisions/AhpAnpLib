{
 "cells": [
  {
   "cell_type": "code",
   "execution_count": 1,
   "metadata": {},
   "outputs": [],
   "source": [
    "from AhpAnpLib import inputs_AHPLib as input\n",
    "from AhpAnpLib import structs_AHPLib as str\n",
    "from AhpAnpLib import calcs_AHPLib as calc\n",
    "from AhpAnpLib import ratings_AHPLib as rate "
   ]
  },
  {
   "cell_type": "code",
   "execution_count": 2,
   "metadata": {},
   "outputs": [],
   "source": [
    "#When structuring objects assign a \"name\" and number in the parens:(\"name\",#)\n",
    "#When adding objects to other objects use the Var in the ()\n",
    "#Best to preface cluster variables with CL\n",
    "\n",
    "#Create the model\n",
    "Economy2008=str.Model(\"Economy2008\") "
   ]
  },
  {
   "cell_type": "code",
   "execution_count": 3,
   "metadata": {},
   "outputs": [],
   "source": [
    "#Create nodes for the Primary Factors\n",
    "nAggDemand=str.Node(\"Agg Demand\",1)\n",
    "nAggSupply=str.Node(\"Agg Supply\",2)\n",
    "nGlobalFinancial=str.Node(\"Global Financial\",3)\n",
    "#Create a cluster to contain the primary factor nodes\n",
    "CLPrimaryFactors=str.Cluster(\"Primary Factors\",1)\n",
    "#Add nodes to Primary Factors cluster (when adding objects use Var, not \"name\")\n",
    "CLPrimaryFactors.addMultipleNodes2Cluster(nAggDemand,nAggSupply,nGlobalFinancial)\n",
    "#Add cluster to model (when adding objects to an object use Var, not \"names\")\n",
    "Economy2008.addCluster2Model(CLPrimaryFactors)\n",
    "\n",
    "#Create aggregate demand factors (nodes)- make up \"name\" and include a number\n",
    "nConsumption=str.Node(\"Consumption\",1)\n",
    "nExports=str.Node(\"Exports\",2)\n",
    "nInvestment=str.Node(\"Investment\",3)\n",
    "nConfidence=str.Node(\"Confidence\",4)\n",
    "nFiscalPolicy=str.Node(\"Fiscal Policy\",5)\n",
    "nMonetaryPolicy=str.Node(\"Monetary Policy\",6)\n",
    "nExpectedInflation=str.Node(\"Expected Inflation\",7)\n",
    "#Create an aggregate demand cluster (when structuring use \"name\" in parens)\n",
    "CLAggregateDemandFactors=str.Cluster(\"Aggregate Demand\",2)\n",
    "#Add nodes (factors) to the aggregate demand cluster (use  Var not \"name\")\n",
    "CLAggregateDemandFactors.addMultipleNodes2Cluster(nConsumption,nExports,nInvestment,nConfidence,nFiscalPolicy,nMonetaryPolicy)\n",
    "#Add aggregate demand factors cluster to model\n",
    "Economy2008.addCluster2Model(CLAggregateDemandFactors)\n",
    "\n",
    "#Create nodes for Fiscal Policy subfactors\n",
    "nTaxPolicy=str.Node(\"Tax Policy\", 1)\n",
    "nGovtExpenditure=str.Node(\"Govt Expenditure\",2)\n",
    "#Create a fiscal policy cluster to contain the nodes \n",
    "CLFiscalPolicyIssues=str.Cluster(\"Fiscal Policy Issues\",3)\n",
    "#Add fiscal policy factors (nodes), using Var\n",
    "CLFiscalPolicyIssues.addMultipleNodes2Cluster(nTaxPolicy,nGovtExpenditure)\n",
    "#Add cluster to model (using Var, not \"name\")\n",
    "Economy2008.addCluster2Model(CLFiscalPolicyIssues)\n",
    "\n",
    "#Create the nodes (factors) for Aggregate Supply\n",
    "nLaborCost=str.Node(\"Labor Cost\",1)\n",
    "nNaturalResourceCost=str.Node(\"Resource Cost\",2)\n",
    "nExpectations=str.Node(\"Expectations\",3)\n",
    "#Create an aggregate supply cluster to contain the factors\n",
    "CLAggregateSupplyFactors=str.Cluster(\"Aggregate Supply\",4)\n",
    "#Add nodes to Aggregate Supply cluster\n",
    "CLAggregateSupplyFactors.addMultipleNodes2Cluster(nLaborCost,nNaturalResourceCost,nExpectations)\n",
    "#Add Aggregate Supply Factor cluster to model (use Var)\n",
    "Economy2008.addCluster2Model(CLAggregateSupplyFactors)\n",
    "\n",
    "#Create Nodes for Global Financial Contexts cluster\n",
    "nInternationalRelations=str.Node(\"International Relations\",1)\n",
    "nGlobalFinancialIntegration=str.Node(\"Financial Integration\",2)\n",
    "nMortgageCrisis=str.Node(\"Mortgage Crisis\",3)\n",
    "nExpectationsOilPrices=str.Node(\"Oil Prices\",4)\n",
    "nFutureDollarValue=str.Node(\"Future Dollar\",5)\n",
    "#Create Cluster for Global Financial Context nodes and name it\n",
    "CLGlobalFinancialContexts=str.Cluster(\"Global Financial\",5)\n",
    "#Add nodes to Global Financial cluster using Var\n",
    "CLGlobalFinancialContexts.addMultipleNodes2Cluster(nInternationalRelations,nGlobalFinancialIntegration,nMortgageCrisis,nExpectationsOilPrices,nFutureDollarValue)\n",
    "#Add Global Financial cluster to model using var\n",
    "Economy2008.addCluster2Model(CLGlobalFinancialContexts)\n",
    "\n",
    "#Create Nodes for Mortgage Crisis cluster\n",
    "nUncertaintyHousingPrices=str.Node(\"Housing Prices\",1)\n",
    "nUncertaintyMortgageBackedSecurities=str.Node(\"Mortgage-backed Securities\",2)\n",
    "nCreditDefaultSwaps=str.Node(\"Credit Default Swaps\",3)\n",
    "nGovtIntervention=str.Node(\"Govt Intervention\",4)\n",
    "nFinancialReporting=str.Node(\"Financial Reporting\",5)\n",
    "#Create cluster for Mortgage Crisis nodes\n",
    "CLMortgageCrisisIssues=str.Cluster(\"Mortgage Crisis Issues\",6)\n",
    "CLMortgageCrisisIssues.addMultipleNodes2Cluster(nUncertaintyHousingPrices,nUncertaintyMortgageBackedSecurities,nCreditDefaultSwaps,nGovtIntervention,nFinancialReporting,nExpectedInflation)\n",
    "#Add cluster to model using Var\n",
    "Economy2008.addCluster2Model(CLMortgageCrisisIssues)\n",
    "\n",
    "#Create Alternative Nodes\n",
    "nSixMonths=str.Node(\"Six Months\",1)\n",
    "nTwelveMonths=str.Node(\"Twelve Months\",2)\n",
    "nTwentyfourMonths=str.Node(\"Twentyfour Months\",3)\n",
    "nThirtysixMonths=str.Node(\"Thirtysix Months\",4)\n",
    "#Create Alternative cluster with \"name\" and number\n",
    "CLAlternatives=str.Cluster(\"Alternatives\",7)\n",
    "#Add nodes to cluster using Var\n",
    "CLAlternatives.addMultipleNodes2Cluster(nSixMonths,nTwelveMonths,nTwentyfourMonths,nThirtysixMonths)\n",
    "#Add cluster to model using Var\n",
    "Economy2008.addCluster2Model(CLAlternatives)\n"
   ]
  },
  {
   "cell_type": "code",
   "execution_count": 4,
   "metadata": {},
   "outputs": [],
   "source": [
    "#Make connections for upper level nodes that connect to all nodes of another cluster\n",
    "Economy2008.addNodeConnectionFromNodeToAllNodesOfCluster(\"Agg Demand\",CLAggregateDemandFactors.name)\n",
    "Economy2008.addNodeConnectionFromNodeToAllNodesOfCluster(\"Agg Supply\",CLAggregateSupplyFactors.name)\n",
    "Economy2008.addNodeConnectionFromNodeToAllNodesOfCluster(\"Global Financial\",CLGlobalFinancialContexts.name)\n",
    "Economy2008.addNodeConnectionFromNodeToAllNodesOfCluster(\"Fiscal Policy\",CLFiscalPolicyIssues.name)\n",
    "Economy2008.addNodeConnectionFromNodeToAllNodesOfCluster(\"Mortgage Crisis\",CLMortgageCrisisIssues.name)\n"
   ]
  },
  {
   "cell_type": "code",
   "execution_count": 5,
   "metadata": {},
   "outputs": [],
   "source": [
    "#Make connections from nodes in Aggregate Demand nodes that go to alternatives\n",
    "Economy2008.addNodeConnectionFromNodeToAllNodesOfCluster(\"Consumption\",CLAlternatives.name)\n",
    "Economy2008.addNodeConnectionFromNodeToAllNodesOfCluster(\"Exports\",CLAlternatives.name)\n",
    "Economy2008.addNodeConnectionFromNodeToAllNodesOfCluster(\"Investment\",CLAlternatives.name)\n",
    "Economy2008.addNodeConnectionFromNodeToAllNodesOfCluster(\"Confidence\",CLAlternatives.name)\n",
    "Economy2008.addNodeConnectionFromNodeToAllNodesOfCluster(\"Monetary Policy\",CLAlternatives.name)\n",
    "Economy2008.addNodeConnectionFromNodeToAllNodesOfCluster(\"Expected Inflation\",CLAlternatives.name)\n"
   ]
  },
  {
   "cell_type": "code",
   "execution_count": 6,
   "metadata": {},
   "outputs": [],
   "source": [
    "Economy2008.addNodeConnectionFromNodeToAllNodesOfCluster(\"Tax Policy\",CLAlternatives.name)\n",
    "Economy2008.addNodeConnectionFromNodeToAllNodesOfCluster(\"Govt Expenditure\",CLAlternatives.name)\n"
   ]
  },
  {
   "cell_type": "code",
   "execution_count": 8,
   "metadata": {},
   "outputs": [],
   "source": [
    "#Make connections from Aggregate Supply nodes to alternatives\n",
    "Economy2008.addNodeConnectionFromAllNodesToAllNodesOfCluster (CLAggregateSupplyFactors.name,CLAlternatives.name)\n"
   ]
  },
  {
   "cell_type": "code",
   "execution_count": 9,
   "metadata": {},
   "outputs": [],
   "source": [
    "#Make connections from Global Financial Contexts nodes down to Alts\n",
    "Economy2008.addNodeConnectionFromNodeToAllNodesOfCluster(\"International Relations\",CLAlternatives.name)\n",
    "Economy2008.addNodeConnectionFromNodeToAllNodesOfCluster(\"Financial Integration\",CLAlternatives.name)\n",
    "Economy2008.addNodeConnectionFromNodeToAllNodesOfCluster(nMortgageCrisis.name,CLAlternatives.name)\n",
    "Economy2008.addNodeConnectionFromNodeToAllNodesOfCluster(\"Oil Prices\",CLAlternatives.name)\n",
    "Economy2008.addNodeConnectionFromNodeToAllNodesOfCluster(\"Future Dollar\",CLAlternatives.name)\n"
   ]
  },
  {
   "cell_type": "code",
   "execution_count": 10,
   "metadata": {},
   "outputs": [],
   "source": [
    "#Make connections back from Alternatives to Primary Factors\n",
    "Economy2008.addNodeConnectionFromAllNodesToAllNodesOfCluster(CLAlternatives.name,CLPrimaryFactors.name)\n"
   ]
  },
  {
   "cell_type": "code",
   "execution_count": 11,
   "metadata": {},
   "outputs": [],
   "source": [
    "#Export Questionnaire for judgments\n",
    "input.export4ExcelQuestFull(Economy2008,\"Economy2008_empty.xlsx\")"
   ]
  }
 ],
 "metadata": {
  "kernelspec": {
   "display_name": "Python 3",
   "language": "python",
   "name": "python3"
  },
  "language_info": {
   "codemirror_mode": {
    "name": "ipython",
    "version": 3
   },
   "file_extension": ".py",
   "mimetype": "text/x-python",
   "name": "python",
   "nbconvert_exporter": "python",
   "pygments_lexer": "ipython3",
   "version": "3.11.2"
  },
  "orig_nbformat": 4
 },
 "nbformat": 4,
 "nbformat_minor": 2
}
