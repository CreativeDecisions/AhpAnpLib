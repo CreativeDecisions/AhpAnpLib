{
 "cells": [
  {
   "cell_type": "markdown",
   "metadata": {},
   "source": [
    "### US Economy Prediction 2001 - ANP Model"
   ]
  },
  {
   "cell_type": "code",
   "execution_count": 1,
   "metadata": {},
   "outputs": [],
   "source": [
    "# import AhpAnpLib libraries\n",
    "from AhpAnpLib import inputs_AHPLib as input\n",
    "from AhpAnpLib import structs_AHPLib as str\n",
    "from AhpAnpLib import calcs_AHPLib as calc"
   ]
  },
  {
   "cell_type": "markdown",
   "metadata": {},
   "source": [
    "#### 1. Initialize model"
   ]
  },
  {
   "cell_type": "code",
   "execution_count": 2,
   "metadata": {},
   "outputs": [],
   "source": [
    "# initialize model\n",
    "# We use Model() to create a model and name the model as \"US Economy Prediction 2001\"\n",
    "# the name of the model is not required\n",
    "economy2001 = str.Model(\"US Economy Prediction 2001\")"
   ]
  },
  {
   "cell_type": "markdown",
   "metadata": {},
   "source": [
    "#### 2. Strcture of model"
   ]
  },
  {
   "cell_type": "markdown",
   "metadata": {},
   "source": [
    "There are five clusters in the model: Primary Factors, Aggregate Demand Factors, Aggregate Supply Factors, Geopolitical Contexts and Alternatives."
   ]
  },
  {
   "cell_type": "code",
   "execution_count": 7,
   "metadata": {},
   "outputs": [],
   "source": [
    "# create clusters using Cluster()\n",
    "# there are two parameters: clustername and order, both are required\n",
    "primary = str.Cluster(\"1 Primary Factors\",0)\n",
    "demand = str.Cluster(\"2 Aggregate Demand Factors\",1)\n",
    "supply = str.Cluster(\"3 Aggregate Supply Factors\", 2)\n",
    "geopolitical = str.Cluster(\"4 Geopolitical Contexts\", 3)\n",
    "alternatives = str.Cluster(\"4Alternatives\",4)"
   ]
  },
  {
   "cell_type": "markdown",
   "metadata": {},
   "source": [
    "There are three primary factors: Aggregate Demand, Aggregate Supply and Geopolitical Contexts. So use Node() to create the three primary factors as nodes and then add the nodes to the cluster of Primary Factors using addMultipleNodes2Cluster command. <br/>\n",
    "There are two parameters provided when creating the nodes: node name and display order. Both parameters are required."
   ]
  },
  {
   "cell_type": "code",
   "execution_count": 8,
   "metadata": {},
   "outputs": [],
   "source": [
    "# primary nodes\n",
    "demandN = str.Node(\"1 Aggregate Demand\",1)\n",
    "supplyN = str.Node(\"2 Aggregate Supply\", 2)\n",
    "geopoliticalN = str.Node(\"3 Geopolitical Contexts\", 3)\n",
    "primary.addMultipleNodes2Cluster(demandN,supplyN,geopoliticalN)"
   ]
  },
  {
   "cell_type": "markdown",
   "metadata": {},
   "source": [
    "There are seven Aggregate Demand factors: Consumption, Exports, Investment,Confidence, Fiscal Policy, Monetary Policy and Expectations will influence the economy recovery. We create the nodes and then add them to the \"Aggregate Demand Factors\" cluster."
   ]
  },
  {
   "cell_type": "code",
   "execution_count": 9,
   "metadata": {},
   "outputs": [],
   "source": [
    "# demand nodes\n",
    "consumption = str.Node(\"1 Consumption\",1)\n",
    "exports = str.Node(\"2 Exports\",2)\n",
    "investment = str.Node(\"3 Investment\",3)\n",
    "confidence = str.Node(\"4 Confidence\",4 )\n",
    "fiscalp = str.Node(\"5 Fiscal Policy\",5)\n",
    "monetaryp = str.Node(\"6 Monetary Policy\",6)\n",
    "expectations = str.Node(\"7 Expectations\", 7)\n",
    "demand.addMultipleNodes2Cluster(consumption,exports,investment,confidence, fiscalp, monetaryp,expectations)"
   ]
  },
  {
   "cell_type": "code",
   "execution_count": 11,
   "metadata": {},
   "outputs": [],
   "source": [
    "# supply factor nodes\n",
    "labor = str.Node(\"1 Labor Costs\",1)\n",
    "natural = str.Node(\"2 Natural Resources Costs\",2)\n",
    "expectations = str.Node(\"3 Expectations\",3)\n",
    "supply.addMultipleNodes2Cluster(labor,natural,expectations)\n",
    "\n",
    "# geopolitical contexts nodes\n",
    "political = str.Node(\"1 Major International Political Relationships\",1)\n",
    "ecomonic = str.Node(\"2 Major International Economic Relationships\",2)\n",
    "geopolitical.addMultipleNodes2Cluster(political,ecomonic)"
   ]
  },
  {
   "cell_type": "markdown",
   "metadata": {},
   "source": [
    "We predict: how long the economy will recover? in three months, in six month, in twelve month or in twenty four month. These are alternatives of our model. <br/>\n",
    "\n",
    "We create the alternatives nodes below and add the to the Alternatives cluster."
   ]
  },
  {
   "cell_type": "code",
   "execution_count": 12,
   "metadata": {},
   "outputs": [],
   "source": [
    "# alternatives\n",
    "threeM = str.Node(\"1 Three months\",1)\n",
    "sixM = str.Node(\"2 Six months\",2)\n",
    "twelveM = str.Node(\"3 Twelve months\",3)\n",
    "twentyFourM = str.Node(\"4 Twenty four months\",4)\n",
    "alternatives.addMultipleNodes2Cluster(threeM,sixM,twelveM,twentyFourM)"
   ]
  },
  {
   "cell_type": "markdown",
   "metadata": {},
   "source": [
    "We now add all the clusters to the model using addMultipleClusters2Model method."
   ]
  },
  {
   "cell_type": "code",
   "execution_count": null,
   "metadata": {},
   "outputs": [],
   "source": [
    "# add all clusters in the model\n",
    "economy2001.addMultipleClusters2Model(primary,demand,supply,geopolitical,alternatives)"
   ]
  },
  {
   "cell_type": "markdown",
   "metadata": {},
   "source": [
    "Next, we add connections from primary factors nodes to all nodes in corresponding subfactors cluster. And we connect all subfactors to the alternatives. In this ANP model, there is feedback from alternatives to all factors. We add connections from all alternatives to all primary factors. "
   ]
  },
  {
   "cell_type": "code",
   "execution_count": null,
   "metadata": {},
   "outputs": [],
   "source": [
    "# add connections\n",
    "economy2001.addNodeConnectionFromNodeToAllNodesOfCluster(\"1 Aggregate Demand\",\"2 Aggregate Demand Factors\")\n",
    "economy2001.addNodeConnectionFromNodeToAllNodesOfCluster(\"2 Aggregate Supply\",\"3 Aggregate Supply Factors\")\n",
    "economy2001.addNodeConnectionFromNodeToAllNodesOfCluster(\"3 Geopolitical Contexts\",\"4 Geopolitical Contexts\")\n",
    "economy2001.addNodeConnectionFromAllNodesToAllNodesOfCluster(\"2 Aggregate Demand Factors\",\"4Alternatives\")\n",
    "economy2001.addNodeConnectionFromAllNodesToAllNodesOfCluster(\"3 Aggregate Supply Factors\",\"4Alternatives\")\n",
    "economy2001.addNodeConnectionFromAllNodesToAllNodesOfCluster(\"4 Geopolitical Contexts\",\"4Alternatives\")\n",
    "\n",
    "economy2001.addNodeConnectionFromAllNodesToAllNodesOfCluster(\"4Alternatives\",\"1 Primary Factors\")\n"
   ]
  },
  {
   "cell_type": "markdown",
   "metadata": {},
   "source": [
    "#### 3. Visualize the model"
   ]
  },
  {
   "cell_type": "code",
   "execution_count": 13,
   "metadata": {},
   "outputs": [
    {
     "name": "stdout",
     "output_type": "stream",
     "text": [
      "_________________________MODEL STRUCTURE_________________________\n",
      "Name: US Economy Prediction 2001\n",
      "Type: pairwise\n",
      "\n",
      "____________________________NODES_______________________________\n",
      "____________________________CLUSTERS____________________________\n",
      "_________________________NODE CONNECTIONS___________________________\n",
      "_________________________CLUSTER CONNECTIONS__________________\n"
     ]
    },
    {
     "data": {
      "image/png": "[encoded data removed]",
      "text/plain": [
       "<Figure size 1800x900 with 1 Axes>"
      ]
     },
     "metadata": {},
     "output_type": "display_data"
    }
   ],
   "source": [
    "#visualize the model\n",
    "economy2001.printStruct()\n",
    "economy2001.drawGraphModel()\n",
    "economy2001.drawGraphClusters()"
   ]
  },
  {
   "cell_type": "markdown",
   "metadata": {},
   "source": [
    "#### 4. Export questionnaire"
   ]
  },
  {
   "cell_type": "code",
   "execution_count": 14,
   "metadata": {},
   "outputs": [],
   "source": [
    "#export questionnaire\n",
    "input.export4ExcelQuestFull(economy2001,\"USEconomy_Excel_Full_empty.xlsx\")\n"
   ]
  }
 ],
 "metadata": {
  "kernelspec": {
   "display_name": "Python 3",
   "language": "python",
   "name": "python3"
  },
  "language_info": {
   "codemirror_mode": {
    "name": "ipython",
    "version": 3
   },
   "file_extension": ".py",
   "mimetype": "text/x-python",
   "name": "python",
   "nbconvert_exporter": "python",
   "pygments_lexer": "ipython3",
   "version": "3.11.2"
  },
  "orig_nbformat": 4
 },
 "nbformat": 4,
 "nbformat_minor": 2
}
