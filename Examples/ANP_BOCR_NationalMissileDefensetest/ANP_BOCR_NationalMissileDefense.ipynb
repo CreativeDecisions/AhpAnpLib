{
 "cells": [
  {
   "cell_type": "code",
   "execution_count": 5,
   "metadata": {},
   "outputs": [],
   "source": [
    "from AhpAnpLib import inputs_AHPLib as input\n",
    "from AhpAnpLib import structs_AHPLib as str\n",
    "from AhpAnpLib import calcs_AHPLib as calc\n",
    "from AhpAnpLib import ratings_AHPLib as rate"
   ]
  },
  {
   "cell_type": "markdown",
   "metadata": {},
   "source": [
    "#### 1. Create the main model with strategic criteria"
   ]
  },
  {
   "cell_type": "code",
   "execution_count": 10,
   "metadata": {},
   "outputs": [],
   "source": [
    "#model\n",
    "NMD = str.Model(\"National Missile Defense Test\")\n",
    "#nodes and clusters\n",
    "GoalNode = str.Node(\"Goal\",0)\n",
    "Goal = str.Cluster(\"Goal Cluster\",0)\n",
    "Goal.addNode2Cluster(GoalNode)\n",
    "WorldPeace = str.Node(\"World Peace\",1)\n",
    "HumanWellbeing = str.Node(\"Huamn Well-being\",2)\n",
    "InternationalPolitics = str.Node(\"International Politics\",3)\n",
    "Criteria = str.Cluster(\"Criteria Cluster\",1)\n",
    "Criteria.addMultipleNodes2Cluster(WorldPeace,HumanWellbeing,InternationalPolitics)\n",
    "AdversaryCountries = str.Node(\"Adversary Countries\",1)\n",
    "SecurityDilemma = str.Node(\"Security Dilemma\",2)\n",
    "Terrorism = str.Node(\"Terrorism\",3)\n",
    "WPSubcriteria = str.Cluster(\"World Peace Subcriteria\",3)\n",
    "WPSubcriteria.addMultipleNodes2Cluster(AdversaryCountries,SecurityDilemma,Terrorism)\n",
    "TechnologicalAdvancement = str.Node(\"Technological Advancement\",1)\n",
    "MarketCreation = str.Node(\"Market Creation\",2)\n",
    "HWSubcriteria = str.Cluster(\"Subcriteria of Huamn Well-being\",4)\n",
    "HWSubcriteria.addMultipleNodes2Cluster(MarketCreation,TechnologicalAdvancement)\n",
    "MiliteryRelations = str.Node(\"Militart Relations\",1)\n",
    "DiplomaticRelations = str.Node(\"Diplomatic Relations\",2)\n",
    "IPSubcriteria = str.Cluster(\"Subcriteria of International Politics\",5)\n",
    "IPSubcriteria.addMultipleNodes2Cluster(MiliteryRelations,DiplomaticRelations)\n",
    "NMD.addMultipleClusters2Model(Goal,Criteria,WPSubcriteria,HWSubcriteria,IPSubcriteria)"
   ]
  },
  {
   "cell_type": "code",
   "execution_count": 13,
   "metadata": {},
   "outputs": [],
   "source": [
    "#add connections\n",
    "NMD.addNodeConnectionFromNodeToAllNodesOfCluster(\"Goal\",\"Criteria Cluster\")"
   ]
  },
  {
   "cell_type": "code",
   "execution_count": 11,
   "metadata": {},
   "outputs": [],
   "source": [
    "NMD.addNodeConnectionFromNodeToAllNodesOfCluster(\"World Peace\",\"World Peace Subcriteria\")\n",
    "NMD.addNodeConnectionFromNodeToAllNodesOfCluster(\"Huamn Well-being\",\"Subcriteria of Huamn Well-being\")\n",
    "NMD.addNodeConnectionFromNodeToAllNodesOfCluster(\"International Politics\",\"Subcriteria of International Politics\")"
   ]
  },
  {
   "cell_type": "markdown",
   "metadata": {},
   "source": [
    "##### Export questionnaire to get priorities of strategic criteria"
   ]
  },
  {
   "cell_type": "code",
   "execution_count": 14,
   "metadata": {},
   "outputs": [],
   "source": [
    "input.export4ExcelQuestFull(NMD,\"BOCR_NMD_StrategicCriteria_Excel_empty.xlsx\",True,False)"
   ]
  },
  {
   "cell_type": "code",
   "execution_count": 15,
   "metadata": {},
   "outputs": [],
   "source": [
    "calc.calcAHPMatricesSave2File(NMD,\"BOCR_NMD_StrategicCriteria_Excel_filledin.xlsx\",\"BOCR_NMD_StrategicCriteria_priorities_restuls.xlsx\")"
   ]
  },
  {
   "cell_type": "markdown",
   "metadata": {},
   "source": [
    "#### 2. Create Benefits subnet"
   ]
  },
  {
   "cell_type": "markdown",
   "metadata": {},
   "source": [
    "##### 2.1 Create model strcture"
   ]
  },
  {
   "cell_type": "code",
   "execution_count": 17,
   "metadata": {},
   "outputs": [],
   "source": [
    "# create the subnet as a new model named as Benefits\n",
    "Benefits = str.Model(\"Benefits\")\n",
    "# nodes\n",
    "BenefitsGoal = str.Node(\"Benefits goal\",0)\n",
    "B_Economic = str.Node (\"Benefits-Economic\",1)\n",
    "B_Political = str.Node (\"Benefits-Political\",2)\n",
    "B_Security = str.Node (\"Benefits-Security\",3)\n",
    "B_Technology = str.Node (\"Benefits-Technology\",4)\n",
    "\n",
    "B_Local = str.Node(\"Benefits-Local\",1)\n",
    "B_DefenseIndustry = str.Node(\"Benefits-Defense Industry\",2)\n",
    "B_BargainingPower = str.Node(\"Benefits-Bargaining Power\",3)\n",
    "B_MilitaryLeadership = str.Node(\"Benefits-Military Leadership\",4)\n",
    "B_Antiterrorism = str.Node(\"Benefits-Anti-terrorism\",5)\n",
    "B_Deterrence = str.Node(\"Deterrence\",6)\n",
    "B_MilitaryCapability = str.Node(\"MilitaryCapability\",7)\n",
    "B_TechLeadership = str.Node(\"Tech Leadership\",8)\n",
    "B_TechAdvancement = str.Node(\"Tech Advancement\",9)\n",
    "\n",
    "# clusters \n",
    "BenefitsGoalCluster=str.Cluster(\"Benefits Goal cluster\",1)\n",
    "BenefitsControlCriteria=str.Cluster(\"Benefits Control Criteria\",2)\n",
    "EconomicControlSub = str.Cluster(\"Economic Control Subcriteria\",3)\n",
    "PoliticalControlSub = str.Cluster(\"Political Control Subcriteria\",4)\n",
    "SecurityControlSub = str.Cluster(\"Security Control Subcriteria\",5)\n",
    "Technologycontrolsub = str.Cluster(\"Technology Control Subcriteria\",6)\n",
    "\n",
    "BenefitsGoalCluster.addNode2Cluster(BenefitsGoal)\n",
    "BenefitsControlCriteria.addMultipleNodes2Cluster(B_Economic,B_Political,B_Security,B_Technology)\n",
    "EconomicControlSub.addMultipleNodes2Cluster(B_Local,B_DefenseIndustry)\n",
    "PoliticalControlSub.addMultipleNodes2Cluster(B_BargainingPower,B_MilitaryLeadership)\n",
    "SecurityControlSub.addMultipleNodes2Cluster(B_Antiterrorism,B_Deterrence,B_MilitaryCapability)\n",
    "Technologycontrolsub.addMultipleNodes2Cluster(B_TechLeadership,B_TechAdvancement)\n",
    "Benefits.addMultipleClusters2Model(BenefitsGoalCluster,BenefitsControlCriteria,EconomicControlSub,SecurityControlSub,PoliticalControlSub,Technologycontrolsub)\n",
    "# connections\n",
    "Benefits.addNodeConnectionFromNodeToAllNodesOfCluster(BenefitsGoal.name,BenefitsControlCriteria.name)\n",
    "Benefits.addNodeConnectionFromNodeToAllNodesOfCluster(B_Economic.name,EconomicControlSub.name)\n",
    "Benefits.addNodeConnectionFromNodeToAllNodesOfCluster(B_Political.name,PoliticalControlSub.name)\n",
    "Benefits.addNodeConnectionFromNodeToAllNodesOfCluster(B_Security.name,SecurityControlSub.name)\n",
    "Benefits.addNodeConnectionFromNodeToAllNodesOfCluster(B_Technology.name,Technologycontrolsub.name)\n"
   ]
  },
  {
   "cell_type": "markdown",
   "metadata": {},
   "source": [
    "##### 2.2 Use Excel questionnaire to get judgments"
   ]
  },
  {
   "cell_type": "code",
   "execution_count": 18,
   "metadata": {},
   "outputs": [],
   "source": [
    "#export questionnaire\n",
    "input.export4ExcelQuestFull(Benefits,\"Benefits_controlcriteria_empty.xlsx\",True)"
   ]
  },
  {
   "cell_type": "code",
   "execution_count": 21,
   "metadata": {},
   "outputs": [],
   "source": [
    "#import questionnaire\n",
    "calc.calcAHPMatricesSave2File(Benefits,\"Benefits_controlcriteria_filledin.xlsx\",\"Benefits_controlcriteria_priorities_results.xlsx\")"
   ]
  },
  {
   "cell_type": "markdown",
   "metadata": {},
   "source": [
    "From the control criteria priorities results, we can see that \"Military Capability\" and \"Tech Advancement\" are two main factors under Benefits with respect to the National Missile Defense test problem. So we create subnets under the two control criteria.\n"
   ]
  },
  {
   "cell_type": "markdown",
   "metadata": {},
   "source": [
    "##### 2.3 Subnets of Military Capability"
   ]
  },
  {
   "cell_type": "code",
   "execution_count": 30,
   "metadata": {},
   "outputs": [],
   "source": [
    "MilitaryCapabilitysubnet = str.Model(\"Military Capablity subnet\")\n",
    "Military = str.Node(\"Military\",1)\n",
    "Congress = str.Node(\"Congress\",2)\n",
    "Allies = str.Node(\"Allies\",3)\n",
    "Industry = str.Node(\"Industry\",4)\n",
    "TechExperts = str.Node(\"Tech Experts\",5)\n",
    "\n",
    "DeployNMD = str.Node(\"Deploy NMD\",1)\n",
    "GlobalDefense = str.Node(\"Global Defense\",2)\n",
    "RandD = str.Node(\"R and D\",3)\n",
    "Termination = str.Node(\"Termination\",4)\n",
    "\n",
    "MilitaryCluster = str.Cluster(\"Military Cluster\",1)\n",
    "MilitaryCluster.addNode2Cluster(Military)\n",
    "\n",
    "CongressCluster = str.Cluster(\"Congress Cluster\",2)\n",
    "CongressCluster.addNode2Cluster(Congress)\n",
    "\n",
    "Industrycluster = str.Cluster(\"Defense Industry\",3)\n",
    "Industrycluster.addNode2Cluster(Industry)\n",
    "\n",
    "ForeignCoutriesCluster = str.Cluster(\"Foreign Countries\",4)\n",
    "ForeignCoutriesCluster.addNode2Cluster(Allies)\n",
    "\n",
    "TechExpertscluster = str.Cluster(\"Tech Experts Cluster\",5)\n",
    "TechExpertscluster.addNode2Cluster(TechExperts)\n",
    "\n",
    "AlternativesCluster = str.Cluster(\"Alternatives\",6)\n",
    "AlternativesCluster.addMultipleNodes2Cluster(DeployNMD,GlobalDefense,RandD,Termination)\n",
    "\n",
    "MilitaryCapabilitysubnet.addMultipleClusters2Model(MilitaryCluster,CongressCluster,Industrycluster,ForeignCoutriesCluster,TechExpertscluster,AlternativesCluster)"
   ]
  },
  {
   "cell_type": "code",
   "execution_count": null,
   "metadata": {},
   "outputs": [],
   "source": [
    "# add connections\n",
    "MilitaryCapabilitysubnet.addNodeConnectionFromNodeToAllNodesOfCluster(Military.name,CongressCluster.name)\n",
    "MilitaryCapabilitysubnet.addNodeConnectionFromNodeToAllNodesOfCluster(Military.name,ForeignCoutriesCluster.name)\n",
    "MilitaryCapabilitysubnet.addNodeConnectionFromNodeToAllNodesOfCluster(Military.name,AlternativesCluster.name)\n",
    "\n",
    "MilitaryCapabilitysubnet.addNodeConnectionFromNodeToAllNodesOfCluster(Congress.name,AlternativesCluster.name)\n",
    "MilitaryCapabilitysubnet.addNodeConnectionFromNodeToAllNodesOfCluster(Congress.name,MilitaryCluster.name)\n",
    "\n",
    "MilitaryCapabilitysubnet.addNodeConnectionFromNodeToAllNodesOfCluster(Allies.name,CongressCluster.name)\n",
    "MilitaryCapabilitysubnet.addNodeConnectionFromNodeToAllNodesOfCluster(Allies.name,MilitaryCluster.name)\n",
    "MilitaryCapabilitysubnet.addNodeConnectionFromNodeToAllNodesOfCluster(Allies.name,AlternativesCluster.name)\n",
    "\n",
    "MilitaryCapabilitysubnet.addNodeConnectionFromNodeToAllNodesOfCluster(Industry.name,CongressCluster.name)\n",
    "MilitaryCapabilitysubnet.addNodeConnectionFromNodeToAllNodesOfCluster(Industry.name,MilitaryCluster.name)\n",
    "MilitaryCapabilitysubnet.addNodeConnectionFromNodeToAllNodesOfCluster(Industry.name,AlternativesCluster.name)\n",
    "\n",
    "MilitaryCapabilitysubnet.addNodeConnectionFromNodeToAllNodesOfCluster(TechExperts.name,CongressCluster.name)\n",
    "MilitaryCapabilitysubnet.addNodeConnectionFromNodeToAllNodesOfCluster(TechExperts.name,MilitaryCluster.name)\n",
    "MilitaryCapabilitysubnet.addNodeConnectionFromNodeToAllNodesOfCluster(TechExperts.name,AlternativesCluster.name)\n",
    "\n",
    "MilitaryCapabilitysubnet.addNodeConnectionFromTo(DeployNMD.name,Military.name)\n",
    "MilitaryCapabilitysubnet.addNodeConnectionFromTo(DeployNMD.name,Congress.name)\n",
    "MilitaryCapabilitysubnet.addNodeConnectionFromTo(DeployNMD.name,Industry.name)\n",
    "MilitaryCapabilitysubnet.addNodeConnectionFromTo(DeployNMD.name,Allies.name)\n",
    "MilitaryCapabilitysubnet.addNodeConnectionFromTo(DeployNMD.name,TechExperts.name)\n",
    "MilitaryCapabilitysubnet.addNodeConnectionFromNodeToNodeList(GlobalDefense.name,Military.name,Congress.name,Industry.name,Allies.name,TechExperts.name,RandD.name)\n",
    "MilitaryCapabilitysubnet.addNodeConnectionFromNodeToNodeList(RandD.name,Military.name,Congress.name,Industry.name,Allies.name,TechExperts.name,DeployNMD.name)"
   ]
  },
  {
   "cell_type": "code",
   "execution_count": 33,
   "metadata": {},
   "outputs": [],
   "source": [
    "# Export pairewise compare matrix for judgement\n",
    "input.export4ExcelQuestFull(MilitaryCapabilitysubnet,\"MilitaryCapability_ControlCriteria_empty.xlsx\",True)"
   ]
  },
  {
   "cell_type": "code",
   "execution_count": null,
   "metadata": {},
   "outputs": [],
   "source": [
    "calc.calcAHPMatricesSave2File(MilitaryCapabilitysubnet,\"MilitaryCapability_ControlCriteria_empty.xlsx\",\"MilitaryCapability_ControlCriteria_empty.xlsx\")"
   ]
  },
  {
   "cell_type": "markdown",
   "metadata": {},
   "source": [
    "#### 3. Create Opportunities subnet"
   ]
  },
  {
   "cell_type": "markdown",
   "metadata": {},
   "source": [
    "#### 4. Create Costs subnet"
   ]
  },
  {
   "cell_type": "markdown",
   "metadata": {},
   "source": [
    "#### 5. Create Risks subnet"
   ]
  }
 ],
 "metadata": {
  "kernelspec": {
   "display_name": "Python 3",
   "language": "python",
   "name": "python3"
  },
  "language_info": {
   "codemirror_mode": {
    "name": "ipython",
    "version": 3
   },
   "file_extension": ".py",
   "mimetype": "text/x-python",
   "name": "python",
   "nbconvert_exporter": "python",
   "pygments_lexer": "ipython3",
   "version": "3.11.2"
  }
 },
 "nbformat": 4,
 "nbformat_minor": 2
}
