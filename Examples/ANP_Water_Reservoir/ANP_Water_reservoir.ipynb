{
 "cells": [
  {
   "cell_type": "code",
   "execution_count": 1,
   "metadata": {},
   "outputs": [],
   "source": [
    "# from AHPLib import *\n",
    "from AhpAnpLib import inputs_AHPLib as input\n",
    "from AhpAnpLib import structs_AHPLib as str\n",
    "from AhpAnpLib import calcs_AHPLib as calc\n",
    "\n",
    "import pandas as pd"
   ]
  },
  {
   "cell_type": "markdown",
   "metadata": {},
   "source": [
    "### ANP Water reservoir model"
   ]
  },
  {
   "cell_type": "markdown",
   "metadata": {},
   "source": [
    "### Structure of the model"
   ]
  },
  {
   "cell_type": "code",
   "execution_count": 2,
   "metadata": {},
   "outputs": [],
   "source": [
    "#Create model\n",
    "Reservoir = str.Model(\"Water Reservoir\")\n",
    "\n",
    "#Create two cluster\n",
    "Purposes = str.Cluster(\"1Purposes\",1)\n",
    "Alternatives = str.Cluster(\"2Alternative Water Levels\",2)\n",
    "\n",
    "#Create nodes in Purposes\n",
    "FloodControl = str.Node(\"1FloodControl\",1)\n",
    "Recreation = str.Node(\"2Recreation\",2)\n",
    "Hydroelectric = str.Node(\"3Hydroelectric Power\",3)\n",
    "\n",
    "Purposes.addMultipleNodes2Cluster(FloodControl,Recreation,Hydroelectric)\n",
    "\n",
    "#Create water levels\n",
    "Lo = str.Node(\"1Lo\",1)\n",
    "Med = str.Node(\"2Med\",2)\n",
    "Hi = str.Node(\"3Hi\",3)\n",
    "\n",
    "Alternatives.addMultipleNodes2Cluster(Lo,Med,Hi)\n",
    "\n",
    "#Include clusters in the model\n",
    "Reservoir.addMultipleClusters2Model(Purposes,Alternatives)"
   ]
  },
  {
   "cell_type": "code",
   "execution_count": 3,
   "metadata": {},
   "outputs": [],
   "source": [
    "#Add connections from all nodes to all nodes\n",
    "Reservoir.addNodeConnectionFromAllNodesToAllNodesOfCluster(\"1Purposes\",\"2Alternative Water Levels\")\n",
    "Reservoir.addNodeConnectionFromAllNodesToAllNodesOfCluster(\"2Alternative Water Levels\",\"1Purposes\")\n"
   ]
  },
  {
   "cell_type": "markdown",
   "metadata": {},
   "source": [
    "### Questionnaire of the model"
   ]
  },
  {
   "cell_type": "code",
   "execution_count": 8,
   "metadata": {},
   "outputs": [],
   "source": [
    "#Export Questionnaires\n",
    "input.export4ExcelQuestFull(Reservoir,\"WaterReservior_Full_empty.xlsx\",True)"
   ]
  },
  {
   "cell_type": "markdown",
   "metadata": {},
   "source": [
    "### Import filledin questionnaire and cacluate results"
   ]
  },
  {
   "cell_type": "code",
   "execution_count": 9,
   "metadata": {},
   "outputs": [
    {
     "name": "stdout",
     "output_type": "stream",
     "text": [
      "start pow 730\n",
      "[[0.000 0.000 0.000 0.672 0.672 0.672]\n",
      " [0.000 0.000 0.000 0.702 0.702 0.702]\n",
      " [0.000 0.000 0.000 0.485 0.485 0.485]\n",
      " [1.000 1.000 1.000 0.000 0.000 0.000]\n",
      " [0.426 0.426 0.426 0.000 0.000 0.000]\n",
      " [0.434 0.434 0.434 0.000 0.000 0.000]]\n",
      "[[0.672 0.672 0.672 0.000 0.000 0.000]\n",
      " [0.702 0.702 0.702 0.000 0.000 0.000]\n",
      " [0.485 0.485 0.485 0.000 0.000 0.000]\n",
      " [0.000 0.000 0.000 1.000 1.000 1.000]\n",
      " [0.000 0.000 0.000 0.426 0.426 0.426]\n",
      " [0.000 0.000 0.000 0.434 0.434 0.434]]\n",
      "[[0.000 0.000 0.000 0.672 0.672 0.672]\n",
      " [0.000 0.000 0.000 0.702 0.702 0.702]\n",
      " [0.000 0.000 0.000 0.485 0.485 0.485]\n",
      " [1.000 1.000 1.000 0.000 0.000 0.000]\n",
      " [0.426 0.426 0.426 0.000 0.000 0.000]\n",
      " [0.434 0.434 0.434 0.000 0.000 0.000]]\n",
      "[[0.672 0.672 0.672 0.000 0.000 0.000]\n",
      " [0.702 0.702 0.702 0.000 0.000 0.000]\n",
      " [0.485 0.485 0.485 0.000 0.000 0.000]\n",
      " [0.000 0.000 0.000 1.000 1.000 1.000]\n",
      " [0.000 0.000 0.000 0.426 0.426 0.426]\n",
      " [0.000 0.000 0.000 0.434 0.434 0.434]]\n",
      "[[0.000 0.000 0.000 0.672 0.672 0.672]\n",
      " [0.000 0.000 0.000 0.702 0.702 0.702]\n",
      " [0.000 0.000 0.000 0.485 0.485 0.485]\n",
      " [1.000 1.000 1.000 0.000 0.000 0.000]\n",
      " [0.426 0.426 0.426 0.000 0.000 0.000]\n",
      " [0.434 0.434 0.434 0.000 0.000 0.000]]\n",
      "Count was 0\n"
     ]
    }
   ],
   "source": [
    "input.importFromExcel(Reservoir,\"WaterReservior_Full_filledIn.xlsx\",0)\n",
    "\n",
    "#Matrix\n",
    "listTitles=calc.nodeNameList(Reservoir)\n",
    "\n",
    "unWighted=calc.calcUnweightedSuperMatrix(Reservoir)\n",
    "\n",
    "df = pd.DataFrame(unWighted,index=listTitles,columns=listTitles)\n",
    "filepath = \"WaterReservior_results_unWeighted.xlsx\"\n",
    "df.to_excel(filepath)\n",
    "weighted = calc.calcWeightedSupermatrix(Reservoir)\n",
    "df3 = pd.DataFrame(weighted,index=listTitles,columns=listTitles)\n",
    "filepath = \"WaterReservior_results_Weighted.xlsx\"\n",
    "df3.to_excel(filepath)\n",
    "\n",
    "limit = calc.calcLimitANP(weighted,Reservoir)\n",
    "\n",
    "df2 = pd.DataFrame (limit,index=listTitles)\n",
    "filepath = \"WaterReservior_results_Limit.xlsx\"\n",
    "df2.to_excel(filepath)"
   ]
  },
  {
   "cell_type": "markdown",
   "metadata": {},
   "source": [
    "### Visualize the model"
   ]
  },
  {
   "cell_type": "code",
   "execution_count": 11,
   "metadata": {},
   "outputs": [],
   "source": [
    "#plot\n",
    "# png file of the model will be exported to the same folder\n",
    "Reservoir.drawGraphModel()"
   ]
  }
 ],
 "metadata": {
  "kernelspec": {
   "display_name": "Python 3",
   "language": "python",
   "name": "python3"
  },
  "language_info": {
   "codemirror_mode": {
    "name": "ipython",
    "version": 3
   },
   "file_extension": ".py",
   "mimetype": "text/x-python",
   "name": "python",
   "nbconvert_exporter": "python",
   "pygments_lexer": "ipython3",
   "version": "3.11.2"
  },
  "orig_nbformat": 4
 },
 "nbformat": 4,
 "nbformat_minor": 2
}
