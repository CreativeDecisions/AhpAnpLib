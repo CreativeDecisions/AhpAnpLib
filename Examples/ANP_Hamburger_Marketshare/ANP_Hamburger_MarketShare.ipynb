{
 "cells": [
  {
   "cell_type": "markdown",
   "metadata": {},
   "source": [
    "### ANP Hamburger Marketshare Model"
   ]
  },
  {
   "cell_type": "code",
   "execution_count": 1,
   "metadata": {},
   "outputs": [],
   "source": [
    "# from AHPLib import *\n",
    "from AhpAnpLib import inputs_AHPLib as input\n",
    "from AhpAnpLib import structs_AHPLib as str\n",
    "from AhpAnpLib import calcs_AHPLib as calc"
   ]
  },
  {
   "cell_type": "markdown",
   "metadata": {},
   "source": [
    "### 1. Create model, nodes and clusters"
   ]
  },
  {
   "cell_type": "code",
   "execution_count": 2,
   "metadata": {},
   "outputs": [],
   "source": [
    "hamburger=str.Model(\"Hamburger Marketshare\")\n",
    "clusterAlternatives=str.Cluster(\"1 Alternatives\",0)\n",
    "a1 = str.Node(\"1 McDonald's\",1)\n",
    "a2 = str.Node(\"2 Burger King\",2)\n",
    "a3 = str.Node(\"3 Wendy's\",3)\n",
    "\n",
    "#2 Advertising Group\n",
    "clusterAdvertising=str.Cluster(\"2 Advertising\",1)\n",
    "ad1 = str.Node(\"1 Creativity\",4)\n",
    "ad2 = str.Node(\"2 Promotion\",5)\n",
    "ad3 = str.Node(\"3 Frequency\",6)\n",
    "\n",
    "#3 Quality of Food\n",
    "clusterQualityofFood=str.Cluster(\"3 Quality of Food\",2)\n",
    "q1 = str.Node(\"1 Nutrition\",7)\n",
    "q2 = str.Node(\"2 Taste\",8)\n",
    "q3 = str.Node(\"3 Portion\",9)\n",
    "\n",
    "#4 Other\n",
    "clusterOther=str.Cluster(\"4 Other\",3)\n",
    "o1 = str.Node(\"1 Price\",10)\n",
    "o2 = str.Node(\"2 Location\",11)\n",
    "o3 = str.Node(\"3 Service\",12)\n",
    "o4 = str.Node(\"4 Speed\",13)\n",
    "o5 = str.Node(\"5 Cleanliness\",14)\n",
    "o6 = str.Node(\"6 Menu Item\",15)\n",
    "o7 = str.Node(\"7 Take-out\",16)\n",
    "o8 = str.Node(\"8 Reputation\",17)"
   ]
  },
  {
   "cell_type": "markdown",
   "metadata": {},
   "source": [
    "### 2. Add nodes to corresponding clusters"
   ]
  },
  {
   "cell_type": "code",
   "execution_count": 4,
   "metadata": {},
   "outputs": [
    {
     "name": "stdout",
     "output_type": "stream",
     "text": [
      "Node already assigned to cluster\n",
      "Node already assigned to cluster\n",
      "Node already assigned to cluster\n"
     ]
    }
   ],
   "source": [
    "clusterAlternatives.addNode2Cluster(a1) \n",
    "clusterAlternatives.addNode2Cluster(a2) \n",
    "clusterAlternatives.addNode2Cluster(a3) \n",
    "\n",
    "clusterAdvertising.addMultipleNodes2Cluster(ad1,ad2,ad3)\n",
    "clusterQualityofFood.addMultipleNodes2Cluster(q1,q2,q3)\n",
    "clusterOther.addMultipleNodes2Cluster(o1,o2,o3,o4,o5,o6,o7,o8)"
   ]
  },
  {
   "cell_type": "markdown",
   "metadata": {},
   "source": [
    "### 3. Add clusters to the model"
   ]
  },
  {
   "cell_type": "code",
   "execution_count": 5,
   "metadata": {},
   "outputs": [],
   "source": [
    "hamburger.addMultipleClusters2Model(clusterAlternatives,clusterAdvertising,clusterQualityofFood,clusterOther)\n"
   ]
  },
  {
   "cell_type": "markdown",
   "metadata": {},
   "source": [
    "### 4. Add connections"
   ]
  },
  {
   "cell_type": "code",
   "execution_count": 6,
   "metadata": {},
   "outputs": [],
   "source": [
    "#alternative nodes connects to all nodes expect itself in Alternatives cluster\n",
    "hamburger.addNodeConnectionFromTo(\"1 McDonald's\",\"2 Burger King\")\n",
    "hamburger.addNodeConnectionFromTo(\"1 McDonald's\",\"3 Wendy's\")\n",
    "hamburger.addNodeConnectionFromTo(\"2 Burger King\",\"1 McDonald's\")\n",
    "hamburger.addNodeConnectionFromTo(\"2 Burger King\",\"3 Wendy's\")\n",
    "hamburger.addNodeConnectionFromTo(\"3 Wendy's\",\"1 McDonald's\")\n",
    "hamburger.addNodeConnectionFromTo(\"3 Wendy's\",\"2 Burger King\")\n",
    "\n",
    "\n",
    "#alternative nodes connects to all nodes in all other clusters\n",
    "hamburger.addNodeConnectionFromAllNodesToAllNodesOfCluster(\"1 Alternatives\",\"2 Advertising\")\n",
    "hamburger.addNodeConnectionFromAllNodesToAllNodesOfCluster(\"1 Alternatives\",\"3 Quality of Food\")\n",
    "hamburger.addNodeConnectionFromAllNodesToAllNodesOfCluster(\"1 Alternatives\",\"4 Other\")\n",
    "\n",
    "#Nodes in 2 Adversiting connect to\n",
    "hamburger.addNodeConnectionFromAllNodesToAllNodesOfCluster(\"2 Advertising\",\"1 Alternatives\")\n",
    "hamburger.addNodeConnectionFromTo(\"1 Creativity\",\"2 Promotion\")\n",
    "hamburger.addNodeConnectionFromTo(\"1 Creativity\",\"3 Frequency\")\n",
    "hamburger.addNodeConnectionFromTo(\"1 Creativity\",\"2 Location\")\n",
    "hamburger.addNodeConnectionFromTo(\"1 Creativity\",\"6 Menu Item\")\n",
    "hamburger.addNodeConnectionFromTo(\"1 Creativity\",\"8 Reputation\")\n",
    "\n",
    "hamburger.addNodeConnectionFromTo(\"2 Promotion\",\"2 Promotion\")\n",
    "hamburger.addNodeConnectionFromTo(\"2 Promotion\",\"3 Frequency\")\n",
    "hamburger.addNodeConnectionFromTo(\"2 Promotion\",\"1 Price\")\n",
    "hamburger.addNodeConnectionFromTo(\"2 Promotion\",\"6 Menu Item\")\n",
    "\n",
    "hamburger.addNodeConnectionFromTo(\"3 Frequency\",\"2 Promotion\")\n",
    "hamburger.addNodeConnectionFromTo(\"3 Frequency\",\"1 Creativity\")\n",
    "hamburger.addNodeConnectionFromTo(\"3 Frequency\",\"2 Location\")\n",
    "hamburger.addNodeConnectionFromTo(\"3 Frequency\",\"6 Menu Item\")\n",
    "hamburger.addNodeConnectionFromTo(\"3 Frequency\",\"8 Reputation\")\n",
    "\n",
    "#Nodes in 3 Quality of Food connect to\n",
    "hamburger.addNodeConnectionFromAllNodesToAllNodesOfCluster(\"3 Quality of Food\",\"1 Alternatives\")\n",
    "hamburger.addNodeConnectionFromTo(\"3 Portion\",\"1 Price\")\n",
    "hamburger.addNodeConnectionFromTo(\"3 Portion\",\"7 Take-out\")\n",
    "\n",
    "#price node connects\n",
    "hamburger.addNodeConnectionFromNodeToAllNodesOfCluster(\"1 Price\",\"1 Alternatives\")\n",
    "\n",
    "hamburger.addNodeConnectionFromTo(\"1 Price\",\"2 Promotion\")\n",
    "hamburger.addNodeConnectionFromTo(\"1 Price\",\"3 Frequency\")\n",
    "hamburger.addNodeConnectionFromTo(\"1 Price\",\"1 Nutrition\")\n",
    "hamburger.addNodeConnectionFromTo(\"1 Price\",\"3 Portion\")\n",
    "hamburger.addNodeConnectionFromTo(\"1 Price\",\"2 Location\")\n",
    "hamburger.addNodeConnectionFromTo(\"1 Price\",\"7 Take-out\")\n",
    "\n",
    "#location node connects to\n",
    "hamburger.addNodeConnectionFromNodeToAllNodesOfCluster(\"2 Location\",\"1 Alternatives\")\n",
    "\n",
    "#3 Service connects to\n",
    "hamburger.addNodeConnectionFromNodeToAllNodesOfCluster(\"3 Service\",\"1 Alternatives\" )\n",
    "hamburger.addNodeConnectionFromTo(\"3 Service\",\"2 Location\" )\n",
    "hamburger.addNodeConnectionFromTo(\"3 Service\",\"4 Speed\" )\n",
    "hamburger.addNodeConnectionFromTo(\"3 Service\",\"5 Cleanliness\" )\n",
    "hamburger.addNodeConnectionFromTo(\"3 Service\",\"8 Reputation\" )\n",
    "\n",
    "#4 Speed connects to\n",
    "hamburger.addNodeConnectionFromNodeToAllNodesOfCluster(\"4 Speed\",\"1 Alternatives\" )\n",
    "hamburger.addNodeConnectionFromTo(\"4 Speed\",\"3 Service\" )\n",
    "hamburger.addNodeConnectionFromTo(\"4 Speed\",\"7 Take-out\" )\n",
    "hamburger.addNodeConnectionFromTo(\"4 Speed\",\"8 Reputation\" )\n",
    "\n",
    "#5 Cleanliness connects to\n",
    "hamburger.addNodeConnectionFromNodeToAllNodesOfCluster(\"5 Cleanliness\",\"1 Alternatives\" )\n",
    "hamburger.addNodeConnectionFromTo(\"5 Cleanliness\",\"3 Service\" )\n",
    "hamburger.addNodeConnectionFromTo(\"5 Cleanliness\",\"2 Location\" )\n",
    "hamburger.addNodeConnectionFromTo(\"5 Cleanliness\",\"4 Speed\" )\n",
    "\n",
    "#6 Menu Item connects to\n",
    "hamburger.addNodeConnectionFromNodeToAllNodesOfCluster(\"6 Menu Item\",\"1 Alternatives\" )\n",
    "hamburger.addNodeConnectionFromNodeToAllNodesOfCluster(\"6 Menu Item\",\"2 Advertising\" )\n",
    "hamburger.addNodeConnectionFromNodeToAllNodesOfCluster(\"6 Menu Item\",\"3 Quality of Food\" )\n",
    "hamburger.addNodeConnectionFromTo(\"6 Menu Item\",\"1 Price\" )\n",
    "hamburger.addNodeConnectionFromTo(\"6 Menu Item\",\"2 Location\" )\n",
    "hamburger.addNodeConnectionFromTo(\"6 Menu Item\",\"4 Speed\" )\n",
    "hamburger.addNodeConnectionFromTo(\"6 Menu Item\",\"5 Cleanliness\" )\n",
    "\n",
    "#7 Take-out connects to\n",
    "hamburger.addNodeConnectionFromNodeToAllNodesOfCluster(\"7 Take-out\",\"1 Alternatives\" )\n",
    "hamburger.addNodeConnectionFromTo(\"7 Take-out\",\"3 Service\" )\n",
    "hamburger.addNodeConnectionFromTo(\"7 Take-out\",\"2 Location\" )\n",
    "hamburger.addNodeConnectionFromTo(\"7 Take-out\",\"4 Speed\" )\n",
    "\n",
    "#8 Reputation connects to\n",
    "hamburger.addNodeConnectionFromNodeToAllNodesOfCluster(\"8 Reputation\",\"1 Alternatives\" )\n",
    "hamburger.addNodeConnectionFromNodeToAllNodesOfCluster(\"8 Reputation\",\"2 Advertising\" )\n",
    "hamburger.addNodeConnectionFromNodeToAllNodesOfCluster(\"8 Reputation\",\"3 Quality of Food\" )\n",
    "hamburger.addNodeConnectionFromNodeToAllNodesOfCluster(\"8 Reputation\",\"4 Other\" )\n"
   ]
  },
  {
   "cell_type": "markdown",
   "metadata": {},
   "source": [
    "#### 5. Export pairwise comparison questionnaire"
   ]
  },
  {
   "cell_type": "code",
   "execution_count": 7,
   "metadata": {},
   "outputs": [],
   "source": [
    "# Excel\n",
    "input.export4ExcelQuestFull(hamburger,\"HamburgerModel_Excel_empty.xlsx\",False)\n"
   ]
  },
  {
   "cell_type": "markdown",
   "metadata": {},
   "source": [
    "### 6. Import filledin excel questionnaire"
   ]
  },
  {
   "cell_type": "code",
   "execution_count": null,
   "metadata": {},
   "outputs": [],
   "source": [
    "calc.calcAHPMatricesSave2File(hamburger,\"HamburgerModel_Excel_filledIn.xlsx\",\"HamburgerModel_Excel_results.xlsx\",True,False,True,True)"
   ]
  }
 ],
 "metadata": {
  "kernelspec": {
   "display_name": "Python 3",
   "language": "python",
   "name": "python3"
  },
  "language_info": {
   "codemirror_mode": {
    "name": "ipython",
    "version": 3
   },
   "file_extension": ".py",
   "mimetype": "text/x-python",
   "name": "python",
   "nbconvert_exporter": "python",
   "pygments_lexer": "ipython3",
   "version": "3.11.2"
  },
  "orig_nbformat": 4
 },
 "nbformat": 4,
 "nbformat_minor": 2
}
