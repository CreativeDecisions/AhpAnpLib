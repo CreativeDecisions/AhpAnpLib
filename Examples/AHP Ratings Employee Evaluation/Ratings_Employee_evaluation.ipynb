{
 "cells": [
  {
   "cell_type": "markdown",
   "metadata": {},
   "source": [
    "### 1. Import libraries"
   ]
  },
  {
   "cell_type": "code",
   "execution_count": 1,
   "metadata": {},
   "outputs": [],
   "source": [
    "from AhpAnpLib import inputs_AHPLib as input\n",
    "from AhpAnpLib import structs_AHPLib as str\n",
    "from AhpAnpLib import calcs_AHPLib as calc\n",
    "from AhpAnpLib import ratings_AHPLib as rate"
   ]
  },
  {
   "cell_type": "markdown",
   "metadata": {},
   "source": [
    "### 2. Create model"
   ]
  },
  {
   "cell_type": "code",
   "execution_count": 2,
   "metadata": {},
   "outputs": [],
   "source": [
    "# create the model using Model command, we can give the model a name here or leave it out\n",
    "EmployEvaluation = str.Model(\"Employee Evaluation\")"
   ]
  },
  {
   "cell_type": "markdown",
   "metadata": {},
   "source": [
    "### 3. Create clusters, nodes and add nodes to clusters"
   ]
  },
  {
   "cell_type": "code",
   "execution_count": 3,
   "metadata": {},
   "outputs": [],
   "source": [
    "# we create cluster, nodes of the model and we add nodes to their coresponding clusters using the add node2cluster command\n",
    "# the model has three clusters\n",
    "Goal = str.Cluster(\"1Goal\",1)\n",
    "Criteria = str.Cluster(\"2Criteria\",2)\n",
    "subCriteria = str.Cluster(\"4Work Subcriteria\",3)\n",
    "\n",
    "# we then create nodes in each cluster\n",
    "GoalNode = str.Node(\"1Goal\",1)\n",
    "Goal.addNode2Cluster(GoalNode)\n",
    "\n",
    "Dependability = str.Node(\"1Dependability\",1)\n",
    "Education = str.Node(\"2Education\",2)\n",
    "Experience = str.Node(\"3Experience\",3)\n",
    "Attitude = str.Node(\"4Attitude\",4)\n",
    "Work = str.Node(\"5Work\",5)\n",
    "Leadership = str.Node(\"6Leadership\",6)\n",
    "# we can use addMultipleNodes2Cluster command to add multiple nodes to the cluster at once\n",
    "Criteria.addMultipleNodes2Cluster(Dependability,Education,Experience,Attitude,Work,Leadership)\n",
    "\n",
    "# two subcriteria for Work\n",
    "Quantity = str.Node(\"41Quantity\",1)\n",
    "Quality = str.Node(\"42Quality\",2)\n",
    "subCriteria.addMultipleNodes2Cluster(Quality,Quantity)"
   ]
  },
  {
   "cell_type": "markdown",
   "metadata": {},
   "source": [
    "### 4. Add clustes to the model and set up connections"
   ]
  },
  {
   "cell_type": "code",
   "execution_count": 5,
   "metadata": {},
   "outputs": [
    {
     "name": "stdout",
     "output_type": "stream",
     "text": [
      "Cluster already assigned to model\n",
      "Cluster already assigned to model\n",
      "Cluster already assigned to model\n",
      "Trying to add n1. Node already in connections.\n",
      "Trying to add n2. Node already in connections.\n",
      "Trying to add n3. Node already in connections.\n",
      "Trying to add n4. Node already in connections.\n",
      "Trying to add n5. Node already in connections.\n",
      "Trying to add n6. Node already in connections.\n"
     ]
    }
   ],
   "source": [
    "# we created goal, criteria, subcriteria above\n",
    "# node we add them to the model and add connections to them then we get the AHP structure\n",
    "EmployEvaluation.addCluster2Model(Goal)\n",
    "EmployEvaluation.addMultipleClusters2Model(Criteria,subCriteria)\n",
    "# when add connections we use cluster or node name\n",
    "# to use the name we can either use the object.name to get the name \n",
    "# or we can specify the node/cluster name directly \n",
    "EmployEvaluation.addNodeConnectionFromNodeToAllNodesOfCluster(GoalNode.name,Criteria.name)\n",
    "EmployEvaluation.addNodeConnectionFromNodeToAllNodesOfCluster(\"5Work\",\"4Work Subcriteria\")"
   ]
  },
  {
   "cell_type": "code",
   "execution_count": 6,
   "metadata": {},
   "outputs": [
    {
     "name": "stdout",
     "output_type": "stream",
     "text": [
      "_________________________MODEL STRUCTURE_________________________\n",
      "Name: Employee Evaluation\n",
      "Type: pairwise\n",
      "\n",
      "____________________________NODES_______________________________\n",
      "1Goal order: 1\n",
      "1Dependability order: 1\n",
      "2Education order: 2\n",
      "3Experience order: 3\n",
      "4Attitude order: 4\n",
      "5Work order: 5\n",
      "6Leadership order: 6\n",
      "41Quantity order: 1\n",
      "42Quality order: 2\n",
      "____________________________CLUSTERS____________________________\n",
      "1Goal order: 1\n",
      "2Criteria order: 2\n",
      "4Work Subcriteria order: 3\n",
      "_________________________NODE CONNECTIONS___________________________\n",
      "Connections from node 1Goal order: 1\n",
      " to: 1Dependability order: 1\n",
      " to: 2Education order: 2\n",
      " to: 3Experience order: 3\n",
      " to: 4Attitude order: 4\n",
      " to: 5Work order: 5\n",
      " to: 6Leadership order: 6\n",
      "No connections from 1Dependability\n",
      "No connections from 2Education\n",
      "No connections from 3Experience\n",
      "No connections from 4Attitude\n",
      "Connections from node 5Work order: 5\n",
      " to: 42Quality order: 2\n",
      " to: 41Quantity order: 1\n",
      "No connections from 6Leadership\n",
      "No connections from 41Quantity\n",
      "No connections from 42Quality\n",
      "_________________________CLUSTER CONNECTIONS__________________\n",
      "Connection(s) from cluster 1Goal order: 1\n",
      " to: 2Criteria order: 2\n",
      "Connection(s) from cluster 2Criteria order: 2\n",
      " to: 4Work Subcriteria order: 3\n",
      "No connections from 4Work Subcriteria\n"
     ]
    }
   ],
   "source": [
    "# when use printStruct command to display and valide the model structure\n",
    "EmployEvaluation.printStruct()"
   ]
  },
  {
   "cell_type": "markdown",
   "metadata": {},
   "source": [
    "### 5.Set model as ratings model"
   ]
  },
  {
   "cell_type": "code",
   "execution_count": 5,
   "metadata": {},
   "outputs": [
    {
     "ename": "NameError",
     "evalue": "name 'EmployEvaluation' is not defined",
     "output_type": "error",
     "traceback": [
      "\u001b[0;31m---------------------------------------------------------------------------\u001b[0m",
      "\u001b[0;31mNameError\u001b[0m                                 Traceback (most recent call last)",
      "Cell \u001b[0;32mIn[5], line 1\u001b[0m\n\u001b[0;32m----> 1\u001b[0m EmployEvaluation\u001b[39m.\u001b[39msetModelTypeRatings()\n",
      "\u001b[0;31mNameError\u001b[0m: name 'EmployEvaluation' is not defined"
     ]
    }
   ],
   "source": [
    "# when create a model, the model by default is a pairewise compare model\n",
    "# we use setModelTypeRatings command to change the model to a ratings model\n",
    "EmployEvaluation.setModelTypeRatings()"
   ]
  },
  {
   "cell_type": "markdown",
   "metadata": {},
   "source": [
    "### 6. Add bottom level criteria to use in the ratings model"
   ]
  },
  {
   "cell_type": "code",
   "execution_count": 7,
   "metadata": {},
   "outputs": [],
   "source": [
    "# to set up the ratings model, we add Criteria first\n",
    "# when add criteria model we add the bottom level criteria in the AHP model as criteria\n",
    "# we can use addCriteriaByVar command by specifying criteria object name\n",
    "# or we can use addCriteriaByName command by specifying criteria name\n",
    "EmployEvaluation.rateModel.addCriteriaByVar(Dependability,Education,Experience,Attitude,Leadership)\n",
    "EmployEvaluation.rateModel.addCriteriaByName(\"41Quantity\",\"42Quality\")"
   ]
  },
  {
   "cell_type": "markdown",
   "metadata": {},
   "source": [
    "### 7. Add alternatives in the ratings model"
   ]
  },
  {
   "cell_type": "code",
   "execution_count": 10,
   "metadata": {},
   "outputs": [],
   "source": [
    "# We can create alternatives in advance \n",
    "# or add new alternatives when adding alternatives in the ratings model\n",
    "# here we add new alternatives directly to the ratings model\n",
    "# when the alternatives are not created, we use the addAlternativesByName and provide alternative names\n",
    "# then the alternatives will be created automatically\n",
    "EmployEvaluation.rateModel.addAlternativesByName(\"Jim Kendall\",\"Sally Brown\",\"John Carter\",\"Mi Sung\",\"Arturo Chavez\")"
   ]
  },
  {
   "cell_type": "markdown",
   "metadata": {},
   "source": [
    "### 9. Create scales add the scales to the ratings model"
   ]
  },
  {
   "cell_type": "code",
   "execution_count": null,
   "metadata": {},
   "outputs": [],
   "source": [
    "# 1. Create a new scale\n",
    "scalea=rate.RatScale(\"A scale name\")\n",
    "scalea.defineScaleByValue(None,False,\n",
    "                          [\"Excellent\",100],\n",
    "                          [\"Normal\",80])\n",
    "# add the scale to the model\n",
    "EmployEvaluation.rateModel.addScaleByVar(scalea)\n",
    "# 2. define scale by value (make pairewise comparisons in Excel questionnaire)\n",
    "scaleb=rate.RatScale(\"scale b\")\n",
    "scaleb.defineScaleByValue(None,False,\"Good\",\"Fair\")\n",
    "EmployEvaluation.rateModel.addScaleByVar(scaleb)\n",
    "# 3. import from rcp file\n",
    "scalec = input.readRatScaleRPCfile(\"scale c\", \"normal.rcp\")\n",
    "EmployEvaluation.rateModel.addScaleByVar(scalec)\n"
   ]
  },
  {
   "cell_type": "markdown",
   "metadata": {},
   "source": [
    "### 10. Assign scales to Criteria"
   ]
  },
  {
   "cell_type": "code",
   "execution_count": null,
   "metadata": {},
   "outputs": [],
   "source": [
    "EmployEvaluation.rateModel.assignScale2CriterionByName(\"criteria name\",\"scale b\")"
   ]
  },
  {
   "cell_type": "markdown",
   "metadata": {},
   "source": [
    "### 11. Export questionnair to Excel file and import filledin Excel file"
   ]
  },
  {
   "cell_type": "code",
   "execution_count": 10,
   "metadata": {},
   "outputs": [],
   "source": [
    "# The command will export formated excel criteria pairwise compare file\n",
    "input.export4ExcelQuestFull(EmployEvaluation,\"filename.xlsx\",True)\n",
    "# import from Excel\n",
    "input.importFromExcel(EmployEvaluation,\"inputfile.xlsx\")\n",
    "calc.calcAHPMatricesSave2File(EmployEvaluation,\"inputFilePath\",\"outputFilePath\",True,False,True)"
   ]
  },
  {
   "cell_type": "code",
   "execution_count": null,
   "metadata": {},
   "outputs": [],
   "source": [
    "# the command will export ratings scales pairwise comparison file in sheet 1\n",
    "# and the ratings table will be export to the same Excel file in sheet 2\n",
    "input.export4ExcelRatingsSetup(EmployEvaluation,\"filename.xlsx\")\n",
    "input.calcExcelRatings(EmployEvaluation,\"filedin filename\")"
   ]
  },
  {
   "cell_type": "code",
   "execution_count": null,
   "metadata": {},
   "outputs": [],
   "source": []
  }
 ],
 "metadata": {
  "kernelspec": {
   "display_name": "Python 3",
   "language": "python",
   "name": "python3"
  },
  "language_info": {
   "codemirror_mode": {
    "name": "ipython",
    "version": 3
   },
   "file_extension": ".py",
   "mimetype": "text/x-python",
   "name": "python",
   "nbconvert_exporter": "python",
   "pygments_lexer": "ipython3",
   "version": "3.11.2"
  },
  "orig_nbformat": 4
 },
 "nbformat": 4,
 "nbformat_minor": 2
}
