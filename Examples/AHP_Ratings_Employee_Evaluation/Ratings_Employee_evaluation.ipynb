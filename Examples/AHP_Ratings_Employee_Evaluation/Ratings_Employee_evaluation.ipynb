{
 "cells": [
  {
   "cell_type": "markdown",
   "metadata": {},
   "source": [
    "### 1. Import libraries"
   ]
  },
  {
   "cell_type": "code",
   "execution_count": 1,
   "metadata": {},
   "outputs": [],
   "source": [
    "from AhpAnpLib import inputs_AHPLib as input\n",
    "from AhpAnpLib import structs_AHPLib as str\n",
    "from AhpAnpLib import calcs_AHPLib as calc\n",
    "from AhpAnpLib import ratings_AHPLib as rate"
   ]
  },
  {
   "cell_type": "markdown",
   "metadata": {},
   "source": [
    "### 2. Create model"
   ]
  },
  {
   "cell_type": "code",
   "execution_count": 2,
   "metadata": {},
   "outputs": [],
   "source": [
    "# create the model using Model command, we can give the model a name here or leave it out\n",
    "EmployEvaluation = str.Model(\"Employee Evaluation\")"
   ]
  },
  {
   "cell_type": "markdown",
   "metadata": {},
   "source": [
    "### 3. Create clusters, nodes and add nodes to clusters"
   ]
  },
  {
   "cell_type": "code",
   "execution_count": 3,
   "metadata": {},
   "outputs": [],
   "source": [
    "# we create cluster, nodes of the model and we add nodes to their coresponding clusters using the add node2cluster command\n",
    "# the model has three clusters\n",
    "Goal = str.Cluster(\"Goal\",1)\n",
    "Criteria = str.Cluster(\"Criteria\",2)\n",
    "subCriteria = str.Cluster(\"Work Subcriteria\",3)\n",
    "\n",
    "# we then create nodes in each cluster\n",
    "GoalNode = str.Node(\"GoalNode\",1)\n",
    "Goal.addNode2Cluster(GoalNode)\n",
    "\n",
    "Dependability = str.Node(\"Dependability\",1)\n",
    "Education = str.Node(\"Education\",2)\n",
    "Experience = str.Node(\"Experience\",3)\n",
    "Attitude = str.Node(\"Attitude\",4)\n",
    "Work = str.Node(\"Work\",5)\n",
    "Leadership = str.Node(\"Leadership\",6)\n",
    "# we can use addMultipleNodes2Cluster command to add multiple nodes to the cluster at once\n",
    "Criteria.addMultipleNodes2Cluster(Dependability,Education,Experience,Attitude,Work,Leadership)\n",
    "\n",
    "# two subcriteria for Work\n",
    "Quantity = str.Node(\"Quantity\",1)\n",
    "Quality = str.Node(\"Quality\",2)\n",
    "subCriteria.addMultipleNodes2Cluster(Quality,Quantity)"
   ]
  },
  {
   "cell_type": "markdown",
   "metadata": {},
   "source": [
    "### 4. Add clustes to the model and set up connections"
   ]
  },
  {
   "cell_type": "code",
   "execution_count": 4,
   "metadata": {},
   "outputs": [],
   "source": [
    "# we created goal, criteria, subcriteria above\n",
    "# node we add them to the model and add connections to them then we get the AHP structure\n",
    "EmployEvaluation.addCluster2Model(Goal)\n",
    "EmployEvaluation.addMultipleClusters2Model(Criteria,subCriteria)\n",
    "# when add connections we use cluster or node name\n",
    "# to use the name we can either use the object.name to get the name \n",
    "# or we can specify the node/cluster name directly \n",
    "EmployEvaluation.addNodeConnectionFromNodeToAllNodesOfCluster(GoalNode.name,Criteria.name)\n",
    "EmployEvaluation.addNodeConnectionFromNodeToAllNodesOfCluster(\"Work\",\"Work Subcriteria\")"
   ]
  },
  {
   "cell_type": "code",
   "execution_count": 5,
   "metadata": {},
   "outputs": [
    {
     "name": "stdout",
     "output_type": "stream",
     "text": [
      "_________________________MODEL STRUCTURE_________________________\n",
      "Name: Employee Evaluation\n",
      "Type: pairwise\n",
      "\n",
      "____________________________NODES_______________________________\n",
      "GoalNode order: 1\n",
      "Dependability order: 1\n",
      "Education order: 2\n",
      "Experience order: 3\n",
      "Attitude order: 4\n",
      "Work order: 5\n",
      "Leadership order: 6\n",
      "Quantity order: 1\n",
      "Quality order: 2\n",
      "____________________________CLUSTERS____________________________\n",
      "Goal order: 1\n",
      "Criteria order: 2\n",
      "Work Subcriteria order: 3\n",
      "_________________________NODE CONNECTIONS___________________________\n",
      "Connections from node GoalNode order: 1\n",
      " to: Dependability order: 1\n",
      " to: Education order: 2\n",
      " to: Experience order: 3\n",
      " to: Attitude order: 4\n",
      " to: Work order: 5\n",
      " to: Leadership order: 6\n",
      "No connections from Dependability\n",
      "No connections from Education\n",
      "No connections from Experience\n",
      "No connections from Attitude\n",
      "Connections from node Work order: 5\n",
      " to: Quality order: 2\n",
      " to: Quantity order: 1\n",
      "No connections from Leadership\n",
      "No connections from Quantity\n",
      "No connections from Quality\n",
      "_________________________CLUSTER CONNECTIONS__________________\n",
      "Connection(s) from cluster Goal order: 1\n",
      " to: Criteria order: 2\n",
      "Connection(s) from cluster Criteria order: 2\n",
      " to: Work Subcriteria order: 3\n",
      "No connections from Work Subcriteria\n"
     ]
    }
   ],
   "source": [
    "# when use printStruct command to display and valide the model structure\n",
    "EmployEvaluation.printStruct()"
   ]
  },
  {
   "cell_type": "markdown",
   "metadata": {},
   "source": [
    "### 5.Set model as ratings model"
   ]
  },
  {
   "cell_type": "code",
   "execution_count": 6,
   "metadata": {},
   "outputs": [],
   "source": [
    "# when create a model, the model by default is a pairewise compare model\n",
    "# we use setModelTypeRatings command to change the model to a ratings model\n",
    "EmployEvaluation.setModelTypeRatings()"
   ]
  },
  {
   "cell_type": "markdown",
   "metadata": {},
   "source": [
    "### 6. Add bottom level criteria to use in the ratings model"
   ]
  },
  {
   "cell_type": "code",
   "execution_count": 7,
   "metadata": {},
   "outputs": [],
   "source": [
    "# to set up the ratings model, we add Criteria first\n",
    "# when add criteria model we add the bottom level criteria in the AHP model as criteria\n",
    "# we can use addCriteriaByVar command by specifying criteria object name\n",
    "# or we can use addCriteriaByName command by specifying criteria name\n",
    "EmployEvaluation.rateModel.addCriteriaByVar(Dependability,Education,Experience,Attitude,Leadership)\n",
    "EmployEvaluation.rateModel.addCriteriaByName(\"Quantity\",\"Quality\")"
   ]
  },
  {
   "cell_type": "markdown",
   "metadata": {},
   "source": [
    "### 7. Add alternatives in the ratings model"
   ]
  },
  {
   "cell_type": "code",
   "execution_count": 8,
   "metadata": {},
   "outputs": [],
   "source": [
    "# We can create alternatives in advance \n",
    "# or add new alternatives when adding alternatives in the ratings model\n",
    "# here we add new alternatives directly to the ratings model\n",
    "# when the alternatives are not created, we use the addAlternativesByName and provide alternative names\n",
    "# then the alternatives will be created automatically\n",
    "EmployEvaluation.rateModel.addAlternativesByName(\"Jim Kendall\",\"Sally Brown\",\"John Carter\",\"Mi Sung\",\"Arturo Chavez\")"
   ]
  },
  {
   "cell_type": "markdown",
   "metadata": {},
   "source": [
    "### 8. Create scales add the scales to the ratings model"
   ]
  },
  {
   "cell_type": "code",
   "execution_count": 9,
   "metadata": {},
   "outputs": [],
   "source": [
    "# 1. Create a new scale (make pairewise comparisons in Excel questionnaire)\n",
    "scale1=rate.RatScale(\"OutstandingtoUnsatisfactory\")\n",
    "scale1.defineScaleByValue(None,False,\"Outstanding\",\"Very Good\",\"Good\",\"Below Average\",\"Unsatisfactory\")\n",
    "# add the scale to the model\n",
    "EmployEvaluation.rateModel.addScaleByVar(scale1)\n",
    "# 2. define scale by value \n",
    "scale2=rate.RatScale(\"EducationScale\")\n",
    "scale2.defineScaleByValue(None,False,[\"Doctorate\",1],[\"Masters\",0.433],[\"Bachelors\",0.177],[\"High School\",0.089])\n",
    "EmployEvaluation.rateModel.addScaleByVar(scale2)\n",
    "scale3=rate.RatScale(\"ExperienceScale\")\n",
    "scale3.defineScaleByValue(None,False,[\"More than 15 Years\",1],[\"6 up to 15 years\",0.428],[\"3 up to 6 years\",0.168],[\"1 up to 3 years\",0.07])\n",
    "EmployEvaluation.rateModel.addScaleByVar(scale3)\n",
    "scale4=rate.RatScale(\"AttitudeScale\")\n",
    "scale4.defineScaleByValue(None,False,[\"Enthused\",1],[\"Above Average\",0.359],[\"Average\",0.153],[\"Negative\",0.057])\n",
    "EmployEvaluation.rateModel.addScaleByVar(scale4)\n",
    "# 3. import from rcp file\n",
    "scale5 = input.readRatScaleRCPfile(\"QuantityScale\", \"quantity.rcp\")\n",
    "scale6 = input.readRatScaleRCPfile(\"QualityScale\", \"quality.rcp\")\n",
    "EmployEvaluation.rateModel.addScaleByVar(scale5)\n",
    "EmployEvaluation.rateModel.addScaleByVar(scale6)"
   ]
  },
  {
   "cell_type": "markdown",
   "metadata": {},
   "source": [
    "### 9. Assign scales to Criteria"
   ]
  },
  {
   "cell_type": "code",
   "execution_count": 10,
   "metadata": {},
   "outputs": [],
   "source": [
    "# we assign each criterion a scale \n",
    "# and the first parameter is the criterion name and the second parameter is scale name\n",
    "EmployEvaluation.rateModel.assignScale2CriterionByName(\"Dependability\",scale1.name)\n",
    "EmployEvaluation.rateModel.assignScale2CriterionByName(\"Education\",\"EducationScale\")\n",
    "EmployEvaluation.rateModel.assignScale2CriterionByName(\"Experience\",\"ExperienceScale\")\n",
    "EmployEvaluation.rateModel.assignScale2CriterionByName(\"Attitude\",\"AttitudeScale\")\n",
    "EmployEvaluation.rateModel.assignScale2CriterionByName(\"Leadership\",\"OutstandingtoUnsatisfactory\")\n",
    "EmployEvaluation.rateModel.assignScale2CriterionByName(\"Quality\",\"QualityScale\")\n",
    "EmployEvaluation.rateModel.assignScale2CriterionByName(\"Quantity\",\"QuantityScale\")"
   ]
  },
  {
   "cell_type": "markdown",
   "metadata": {},
   "source": [
    "### 10. Export questionnair to Excel file and import filledin Excel file"
   ]
  },
  {
   "cell_type": "code",
   "execution_count": 11,
   "metadata": {},
   "outputs": [],
   "source": [
    "# The command will export formated excel criteria pairwise compare file\n",
    "input.export4ExcelQuestFull(EmployEvaluation,\"Ratings_Employee_Eval_empty.xlsx\",True)"
   ]
  },
  {
   "cell_type": "code",
   "execution_count": 12,
   "metadata": {},
   "outputs": [],
   "source": [
    "# import judgment from Excel and then calculate criterion priorities then the results will be exported to an excel\n",
    "calc.calcAHPMatricesSave2File(EmployEvaluation,\"Ratings_Employee_Eval_withjudgments.xlsx\",\"Ratings_Employee_Eval_criteriapriorities.xlsx\",True,False,True)"
   ]
  },
  {
   "cell_type": "code",
   "execution_count": 13,
   "metadata": {},
   "outputs": [
    {
     "name": "stdout",
     "output_type": "stream",
     "text": [
      "load\n",
      "No ratings tables available to load\n"
     ]
    }
   ],
   "source": [
    "# the command will export ratings scales pairwise comparison file in sheet 1\n",
    "# and the ratings table will be export to the same Excel file in sheet 2\n",
    "# we can then pairwise compare scale caterogies to get priorities of scales when needed\n",
    "input.export4ExcelRatingsSetup(EmployEvaluation,\"Ratings_Employee_Eval_ratingstable.xlsx\",True)\n"
   ]
  },
  {
   "cell_type": "code",
   "execution_count": 15,
   "metadata": {},
   "outputs": [
    {
     "name": "stdout",
     "output_type": "stream",
     "text": [
      "OutstandingtoUnsatisfactory [[1.000 1.742 3.049 8.000 16.667]\n",
      " [0.574 1.000 1.750 4.592 9.567]\n",
      " [0.328 0.571 1.000 2.624 5.467]\n",
      " [0.125 0.218 0.381 1.000 2.083]\n",
      " [0.060 0.105 0.183 0.480 1.000]]\n",
      "[0.0]\n",
      "EducationScale [[1.000 2.309 5.650 11.236]\n",
      " [0.433 1.000 2.446 4.865]\n",
      " [0.177 0.409 1.000 1.989]\n",
      " [0.089 0.206 0.503 1.000]]\n",
      "[0.0, 0.0]\n",
      "ExperienceScale [[1.000 2.336 5.952 14.286]\n",
      " [0.428 1.000 2.548 6.114]\n",
      " [0.168 0.393 1.000 2.400]\n",
      " [0.070 0.164 0.417 1.000]]\n",
      "[0.0, 0.0, 0.0]\n",
      "AttitudeScale [[1.000 2.786 6.536 17.544]\n",
      " [0.359 1.000 2.346 6.298]\n",
      " [0.153 0.426 1.000 2.684]\n",
      " [0.057 0.159 0.373 1.000]]\n",
      "[0.0, 0.0, 0.0, 0.0]\n",
      "OutstandingtoUnsatisfactory_cp [[1.000 2.203 4.405 14.493 23.256]\n",
      " [0.454 1.000 2.000 6.580 10.558]\n",
      " [0.227 0.500 1.000 3.290 5.279]\n",
      " [0.069 0.152 0.304 1.000 1.605]\n",
      " [0.043 0.095 0.189 0.623 1.000]]\n",
      "[0.0, 0.0, 0.0, 0.0, 0.0]\n",
      "QuantityScale [[1.000 1.832 2.740 7.812]\n",
      " [0.546 1.000 1.496 4.266]\n",
      " [0.365 0.668 1.000 2.852]\n",
      " [0.128 0.234 0.351 1.000]]\n",
      "[0.0, 0.0, 0.0, 0.0, 0.0, 0.0]\n",
      "QualityScale [[1.000 3.125 6.024 16.667]\n",
      " [0.320 1.000 1.928 5.333]\n",
      " [0.166 0.519 1.000 2.767]\n",
      " [0.060 0.188 0.361 1.000]]\n",
      "[0.0, 0.0, 0.0, 0.0, 0.0, 0.0, 0.0]\n",
      "[array([0.479, 0.275, 0.157, 0.060, 0.029]), array([0.589, 0.255, 0.104, 0.052]), array([0.600, 0.257, 0.101, 0.042]), array([0.637, 0.229, 0.098, 0.036]), array([0.558, 0.253, 0.127, 0.038, 0.024]), array([0.490, 0.268, 0.179, 0.063]), array([0.647, 0.207, 0.107, 0.039])]\n",
      "[[1.0, 0.5740000000000001, 0.32800000000000007, 0.125, 0.06], [1.0, 0.43299999999999994, 0.17699999999999996, 0.08899999999999997], [1.0, 0.42800000000000005, 0.168, 0.07000000000000002], [1.0, 0.359, 0.15299999999999997, 0.05700000000000001], [1.0, 0.4539999999999999, 0.22699999999999995, 0.06899999999999999, 0.04299999999999998], [1.0, 0.5459999387489993, 0.3650000344986854, 0.12799999176504193], [1.0, 0.3200000050200005, 0.16600000611012547, 0.05999999949027136]]\n",
      "load\n"
     ]
    }
   ],
   "source": [
    "# in this last step, we calculate ratings results and export it to an excel file\n",
    "input.calcExcelRatings(EmployEvaluation,\"Ratings_Employee_Eval_ratingstable_filled.xlsx\",\"Ratings_Employee_Eval_ratingsresults.xlsx\")"
   ]
  }
 ],
 "metadata": {
  "kernelspec": {
   "display_name": "Python 3",
   "language": "python",
   "name": "python3"
  },
  "language_info": {
   "codemirror_mode": {
    "name": "ipython",
    "version": 3
   },
   "file_extension": ".py",
   "mimetype": "text/x-python",
   "name": "python",
   "nbconvert_exporter": "python",
   "pygments_lexer": "ipython3",
   "version": "3.11.2"
  },
  "orig_nbformat": 4
 },
 "nbformat": 4,
 "nbformat_minor": 2
}
