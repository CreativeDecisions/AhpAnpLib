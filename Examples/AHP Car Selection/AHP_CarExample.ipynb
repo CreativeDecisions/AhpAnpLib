{
 "cells": [
  {
   "cell_type": "markdown",
   "metadata": {},
   "source": [
    "### 1. Import libraries"
   ]
  },
  {
   "cell_type": "code",
   "execution_count": 1,
   "metadata": {},
   "outputs": [],
   "source": [
    "# from AhpAnpLib import *\n",
    "from AhpAnpLib import inputs_AHPLib as input\n",
    "from AhpAnpLib import structs_AHPLib as str\n",
    "from AhpAnpLib import calcs_AHPLib as calc"
   ]
  },
  {
   "cell_type": "markdown",
   "metadata": {},
   "source": [
    "### 2. Create model, nodes and clusters objects"
   ]
  },
  {
   "cell_type": "code",
   "execution_count": 2,
   "metadata": {},
   "outputs": [],
   "source": [
    "#create model with a model name as \"Select a Car\"\n",
    "carModel=str.Model(\"Select a Car\")\n",
    "\n",
    "#create nodes\n",
    "\n",
    "# goal node\n",
    "goal_node=str.Node(\"GoalNode\",0)\n",
    "\n",
    "# criteria nodes\n",
    "prestige=str.Node(\"1Prestige\",1)\n",
    "price=str.Node(\"2Price\",2)\n",
    "mpg=str.Node(\"3MPG\",3)\n",
    "comf=str.Node(\"4Comfort\",4)\n",
    "\n",
    "# alternative nodes\n",
    "alt1=str.Node(\"1Acura TL\",5)\n",
    "alt2=str.Node(\"2Toyota Camry\",6)\n",
    "alt3=str.Node(\"3Honda Civic\",7)\n",
    "\n",
    "#create clusters\n",
    "cluster0=str.Cluster(\"1Goal\",0)\n",
    "cluster1=str.Cluster(\"2Criteria\",1)\n",
    "cluster2=str.Cluster(\"3Alternatives\",2)"
   ]
  },
  {
   "cell_type": "markdown",
   "metadata": {},
   "source": [
    "### 3. Add nodes to corresponding cluster and add clusters to the model"
   ]
  },
  {
   "cell_type": "code",
   "execution_count": 3,
   "metadata": {},
   "outputs": [],
   "source": [
    "#add nodes to clusters\n",
    "cluster0.addNode2Cluster(goal_node) \n",
    "\n",
    "# you can add node one at a time using addNode2Cluster command \n",
    "# or add multiple nodes to the same cluster in one command addMultipleNodes2Cluster\n",
    "# add nodes to the cluster one at a time:\n",
    "cluster1.addNode2Cluster(prestige)\n",
    "cluster1.addNode2Cluster(price)\n",
    "cluster1.addNode2Cluster(mpg)\n",
    "cluster1.addNode2Cluster(comf)\n",
    "# add multiple nodes to the cluster once:\n",
    "cluster2.addMultipleNodes2Cluster(alt1,alt2,alt3)\n",
    "\n",
    "# you can add one cluster to the model at a time using addCluster2Model\n",
    "# or you use add multiple clusters one a model using one command: addMultipleClusters2Model\n",
    "# add clusters to the model \n",
    "carModel.addCluster2Model(cluster0)\n",
    "carModel.addMultipleClusters2Model(cluster1,cluster2)\n"
   ]
  },
  {
   "cell_type": "markdown",
   "metadata": {},
   "source": [
    "### 4. Add connections"
   ]
  },
  {
   "cell_type": "code",
   "execution_count": 4,
   "metadata": {},
   "outputs": [],
   "source": [
    "#set up node connections from Goal Node to all the nodes in the 2Criteria cluster\n",
    "carModel.addNodeConnectionFromNodeToAllNodesOfCluster(\"GoalNode\",\"2Criteria\")\n",
    "#set up node connections from all the nodes in the 2Criteria cluster to all the nodes in the cluster 3Alternatives\n",
    "carModel.addNodeConnectionFromAllNodesToAllNodesOfCluster(\"2Criteria\",\"3Alternatives\")\n"
   ]
  },
  {
   "cell_type": "markdown",
   "metadata": {},
   "source": [
    "Now we printout the model structure to calidate the model is created correctly!"
   ]
  },
  {
   "cell_type": "code",
   "execution_count": 5,
   "metadata": {},
   "outputs": [
    {
     "name": "stdout",
     "output_type": "stream",
     "text": [
      "_________________________MODEL STRUCTURE_________________________\n",
      "Name: Select a Car\n",
      "Type: pairwise\n",
      "\n",
      "____________________________NODES_______________________________\n",
      "GoalNode order: 0\n",
      "1Prestige order: 1\n",
      "2Price order: 2\n",
      "3MPG order: 3\n",
      "4Comfort order: 4\n",
      "1Acura TL order: 5\n",
      "2Toyota Camry order: 6\n",
      "3Honda Civic order: 7\n",
      "____________________________CLUSTERS____________________________\n",
      "1Goal order: 0\n",
      "2Criteria order: 1\n",
      "3Alternatives order: 2\n",
      "_________________________NODE CONNECTIONS___________________________\n",
      "Connections from node GoalNode order: 0\n",
      " to: 1Prestige order: 1\n",
      " to: 2Price order: 2\n",
      " to: 3MPG order: 3\n",
      " to: 4Comfort order: 4\n",
      "Connections from node 1Prestige order: 1\n",
      " to: 1Acura TL order: 5\n",
      " to: 2Toyota Camry order: 6\n",
      " to: 3Honda Civic order: 7\n",
      "Connections from node 2Price order: 2\n",
      " to: 1Acura TL order: 5\n",
      " to: 2Toyota Camry order: 6\n",
      " to: 3Honda Civic order: 7\n",
      "Connections from node 3MPG order: 3\n",
      " to: 1Acura TL order: 5\n",
      " to: 2Toyota Camry order: 6\n",
      " to: 3Honda Civic order: 7\n",
      "Connections from node 4Comfort order: 4\n",
      " to: 1Acura TL order: 5\n",
      " to: 2Toyota Camry order: 6\n",
      " to: 3Honda Civic order: 7\n",
      "No connections from 1Acura TL\n",
      "No connections from 2Toyota Camry\n",
      "No connections from 3Honda Civic\n",
      "_________________________CLUSTER CONNECTIONS__________________\n",
      "Connection(s) from cluster 1Goal order: 0\n",
      " to: 2Criteria order: 1\n",
      "Connection(s) from cluster 2Criteria order: 1\n",
      " to: 3Alternatives order: 2\n",
      "No connections from 3Alternatives\n"
     ]
    }
   ],
   "source": [
    "# Print out model structure\n",
    "carModel.printStruct()"
   ]
  },
  {
   "cell_type": "markdown",
   "metadata": {},
   "source": [
    "### 5. Generate a full questionnaire and export to excel file"
   ]
  },
  {
   "cell_type": "code",
   "execution_count": 6,
   "metadata": {},
   "outputs": [],
   "source": [
    "#Generate Excel questionnaires \n",
    "#export to Excel all pairwise comparison matrices - to be filled in and imported back\n",
    "# when only file name is specified, the file will be exported to the current working folder\n",
    "# you can also define path in the export file then the file will be exported to the specific folder\n",
    "# verbal true will print out info about the values being exported \n",
    "input.export4ExcelQuestFull(carModel,\"carModel_Excel_empty.xlsx\",True)"
   ]
  },
  {
   "cell_type": "markdown",
   "metadata": {},
   "source": [
    "### 6. Import the questionnaire after filled in pairwise compare matrix"
   ]
  },
  {
   "cell_type": "code",
   "execution_count": 7,
   "metadata": {},
   "outputs": [
    {
     "name": "stdout",
     "output_type": "stream",
     "text": [
      "File Len= 35\n",
      "excel                 0          1              2             3              4   \n",
      "0        GoalNode          0              0             0              0  \\\n",
      "1               0          0              0             0              0   \n",
      "2       2Criteria  1Prestige         2Price          3MPG       4Comfort   \n",
      "3       1Prestige          1           0.25      0.333333            0.5   \n",
      "4          2Price          0              1             3            1.5   \n",
      "5            3MPG          0              0             1         0.3333   \n",
      "6        4Comfort          0              0             0              1   \n",
      "7               0          0              0             0              0   \n",
      "8       1Prestige          0              0             0              0   \n",
      "9               0          0              0             0              0   \n",
      "10  3Alternatives  1Acura TL  2Toyota Camry  3Honda Civic  Direct values   \n",
      "11      1Acura TL          1              8             4              0   \n",
      "12  2Toyota Camry          0              1          0.25              0   \n",
      "13   3Honda Civic          0              0             1              0   \n",
      "14              0          0              0             0              0   \n",
      "15         2Price          0              0             0              0   \n",
      "16              0          0              0             0              0   \n",
      "17  3Alternatives  1Acura TL  2Toyota Camry  3Honda Civic  Direct values   \n",
      "18      1Acura TL          1           0.25      0.111111              0   \n",
      "19  2Toyota Camry          0              1           0.2              0   \n",
      "20   3Honda Civic          0              0             1              0   \n",
      "21              0          0              0             0              0   \n",
      "22           3MPG          0              0             0              0   \n",
      "23              0          0              0             0              0   \n",
      "24  3Alternatives  1Acura TL  2Toyota Camry  3Honda Civic  Direct values   \n",
      "25      1Acura TL          1         0.6667      0.333333              0   \n",
      "26  2Toyota Camry          0              1           0.5              0   \n",
      "27   3Honda Civic          0              0             1              0   \n",
      "28              0          0              0             0              0   \n",
      "29       4Comfort          0              0             0              0   \n",
      "30              0          0              0             0              0   \n",
      "31  3Alternatives  1Acura TL  2Toyota Camry  3Honda Civic  Direct values   \n",
      "32      1Acura TL          1              4             7              0   \n",
      "33  2Toyota Camry          0              1             3              0   \n",
      "34   3Honda Civic          0              0             1              0   \n",
      "\n",
      "                5  \n",
      "0               0  \n",
      "1               0  \n",
      "2   Direct values  \n",
      "3               0  \n",
      "4               0  \n",
      "5               0  \n",
      "6               0  \n",
      "7               0  \n",
      "8               0  \n",
      "9               0  \n",
      "10              0  \n",
      "11              0  \n",
      "12              0  \n",
      "13              0  \n",
      "14              0  \n",
      "15              0  \n",
      "16              0  \n",
      "17              0  \n",
      "18              0  \n",
      "19              0  \n",
      "20              0  \n",
      "21              0  \n",
      "22              0  \n",
      "23              0  \n",
      "24              0  \n",
      "25              0  \n",
      "26              0  \n",
      "27              0  \n",
      "28              0  \n",
      "29              0  \n",
      "30              0  \n",
      "31              0  \n",
      "32              0  \n",
      "33              0  \n",
      "34              0  \n",
      "Cluster: 1Goal\n",
      "NFrom: GoalNode\n",
      "Connected clusters [2Criteria order: 1]\n",
      "From file row:  2 working in cluster: 2Criteria 2Criteria\n",
      "Current row 3 All node labels till this point: ['1Prestige']\n",
      "Current row 3 All node labels till this point: ['1Prestige', '2Price']\n",
      "Current row 3 All node labels till this point: ['1Prestige', '2Price', '3MPG']\n",
      "Current row 3 All node labels till this point: ['1Prestige', '2Price', '3MPG', '4Comfort']\n",
      "[[1.000 0.250 0.333 0.500]\n",
      " [4.000 1.000 3.000 1.500]\n",
      " [3.000 0.333 1.000 0.333]\n",
      " [2.000 0.667 3.000 1.000]]\n",
      "Cluster: 2Criteria\n",
      "NFrom: 1Prestige\n",
      "Connected clusters [3Alternatives order: 2]\n",
      "From file row:  11 working in cluster: 1Acura TL 3Alternatives\n",
      "Current row 12 All node labels till this point: ['1Prestige', '2Price', '3MPG', '4Comfort', '2Toyota Camry']\n",
      "Current row 12 All node labels till this point: ['1Prestige', '2Price', '3MPG', '4Comfort', '2Toyota Camry', '3Honda Civic']\n",
      "Current row 12 All node labels till this point: ['1Prestige', '2Price', '3MPG', '4Comfort', '2Toyota Camry', '3Honda Civic', 0]\n",
      "[[1.000 1.000 0.250]\n",
      " [1.000 1.000 1.000]\n",
      " [4.000 1.000 1.000]]\n",
      "NFrom: 2Price\n",
      "Connected clusters [3Alternatives order: 2]\n",
      "From file row:  19 working in cluster: 2Toyota Camry 3Alternatives\n",
      "Current row 20 All node labels till this point: ['1Prestige', '2Price', '3MPG', '4Comfort', '2Toyota Camry', '3Honda Civic', 0, '3Honda Civic']\n",
      "Current row 20 All node labels till this point: ['1Prestige', '2Price', '3MPG', '4Comfort', '2Toyota Camry', '3Honda Civic', 0, '3Honda Civic', 0]\n",
      "Current row 20 All node labels till this point: ['1Prestige', '2Price', '3MPG', '4Comfort', '2Toyota Camry', '3Honda Civic', 0, '3Honda Civic', 0, '3MPG']\n",
      "[[1.000 0.000 1.000]\n",
      " [0.000 1.000 0.000]\n",
      " [1.000 0.000 1.000]]\n",
      "NFrom: 3MPG\n",
      "Connected clusters [3Alternatives order: 2]\n",
      "From file row:  27 working in cluster: 3Honda Civic 3Alternatives\n",
      "Current row 28 All node labels till this point: ['1Prestige', '2Price', '3MPG', '4Comfort', '2Toyota Camry', '3Honda Civic', 0, '3Honda Civic', 0, '3MPG', 0]\n",
      "Current row 28 All node labels till this point: ['1Prestige', '2Price', '3MPG', '4Comfort', '2Toyota Camry', '3Honda Civic', 0, '3Honda Civic', 0, '3MPG', 0, '4Comfort']\n",
      "Current row 28 All node labels till this point: ['1Prestige', '2Price', '3MPG', '4Comfort', '2Toyota Camry', '3Honda Civic', 0, '3Honda Civic', 0, '3MPG', 0, '4Comfort', 0]\n",
      "[[1.000 0.000 0.000]\n",
      " [0.000 1.000 0.000]\n",
      " [0.000 0.000 1.000]]\n",
      "NFrom: 4Comfort\n",
      "Connected clusters [3Alternatives order: 2]\n"
     ]
    },
    {
     "ename": "IndexError",
     "evalue": "index 35 is out of bounds for axis 0 with size 35",
     "output_type": "error",
     "traceback": [
      "\u001b[0;31m---------------------------------------------------------------------------\u001b[0m",
      "\u001b[0;31mIndexError\u001b[0m                                Traceback (most recent call last)",
      "Cell \u001b[0;32mIn[7], line 4\u001b[0m\n\u001b[1;32m      2\u001b[0m inputFile\u001b[39m=\u001b[39m\u001b[39m\"\u001b[39m\u001b[39mcarModel_Excel_filledInJudgments.xlsx\u001b[39m\u001b[39m\"\u001b[39m\n\u001b[1;32m      3\u001b[0m outputFile \u001b[39m=\u001b[39m \u001b[39m\"\u001b[39m\u001b[39mcarModel_Results.xlsx\u001b[39m\u001b[39m\"\u001b[39m\n\u001b[0;32m----> 4\u001b[0m calc\u001b[39m.\u001b[39;49mcalcAHPMatricesSave2File(carModel,inputFile,outputFile,\u001b[39mTrue\u001b[39;49;00m,\u001b[39mFalse\u001b[39;49;00m,\u001b[39mTrue\u001b[39;49;00m,\u001b[39mTrue\u001b[39;49;00m)\n\u001b[1;32m      6\u001b[0m \u001b[39m#the bove command will:\u001b[39;00m\n\u001b[1;32m      7\u001b[0m \u001b[39m#calculate supermatrix, weighted, limiting and global priorities\u001b[39;00m\n\u001b[1;32m      8\u001b[0m \u001b[39m#will save results to filepath of set as outputFile above\u001b[39;00m\n\u001b[0;32m   (...)\u001b[0m\n\u001b[1;32m     11\u001b[0m \u001b[39m#6th parameter: if ideal bar true then will show bars for ideal eigen\u001b[39;00m\n\u001b[1;32m     12\u001b[0m \u001b[39m#7th parameter: if verbal true will print out the intermediate results\u001b[39;00m\n",
      "File \u001b[0;32m/Library/Frameworks/Python.framework/Versions/3.11/lib/python3.11/site-packages/AhpAnpLib/calcs_AHPLib.py:775\u001b[0m, in \u001b[0;36mcalcAHPMatricesSave2File\u001b[0;34m(model, inputFile, filepath, inputFileUse, normalbar, idealbar, verbal)\u001b[0m\n\u001b[1;32m    773\u001b[0m \u001b[39mdef\u001b[39;00m \u001b[39mcalcAHPMatricesSave2File\u001b[39m(model,inputFile,filepath,inputFileUse\u001b[39m=\u001b[39m\u001b[39mTrue\u001b[39;00m,normalbar\u001b[39m=\u001b[39m\u001b[39mFalse\u001b[39;00m,idealbar\u001b[39m=\u001b[39m\u001b[39mTrue\u001b[39;00m,verbal\u001b[39m=\u001b[39m\u001b[39mFalse\u001b[39;00m):\n\u001b[1;32m    774\u001b[0m     \u001b[39mif\u001b[39;00m(inputFileUse):\n\u001b[0;32m--> 775\u001b[0m         cdf_inp\u001b[39m.\u001b[39;49mimportFromExcel(model,inputFile,\u001b[39m0\u001b[39;49m,verbal)\n\u001b[1;32m    777\u001b[0m     model\u001b[39m.\u001b[39mdrawGraphModel(filepath)\n\u001b[1;32m    779\u001b[0m     \u001b[39m#add the inputs to the results file\u001b[39;00m\n",
      "File \u001b[0;32m/Library/Frameworks/Python.framework/Versions/3.11/lib/python3.11/site-packages/AhpAnpLib/inputs_AHPLib.py:752\u001b[0m, in \u001b[0;36mimportFromExcel\u001b[0;34m(model, filepath, sheet_name, verbal)\u001b[0m\n\u001b[1;32m    750\u001b[0m \u001b[39mfor\u001b[39;00m clusterPWC \u001b[39min\u001b[39;00m \u001b[39msorted\u001b[39m(connectedClusters, key\u001b[39m=\u001b[39mreqLib\u001b[39m.\u001b[39mop\u001b[39m.\u001b[39mattrgetter(\u001b[39m'\u001b[39m\u001b[39morder\u001b[39m\u001b[39m'\u001b[39m)):\n\u001b[1;32m    751\u001b[0m     row\u001b[39m+\u001b[39m\u001b[39m=\u001b[39m\u001b[39m2\u001b[39m\n\u001b[0;32m--> 752\u001b[0m     \u001b[39mif\u001b[39;00m(verbal\u001b[39m==\u001b[39m\u001b[39mTrue\u001b[39;00m): \u001b[39mprint\u001b[39m(\u001b[39m\"\u001b[39m\u001b[39mFrom file row: \u001b[39m\u001b[39m\"\u001b[39m,row,\u001b[39m\"\u001b[39m\u001b[39mworking in cluster:\u001b[39m\u001b[39m\"\u001b[39m,array_excel\u001b[39m.\u001b[39;49miat[row,\u001b[39m0\u001b[39;49m],clusterPWC\u001b[39m.\u001b[39mname)\n\u001b[1;32m    753\u001b[0m     model\u001b[39m.\u001b[39mclabels\u001b[39m.\u001b[39mappend(clusterPWC\u001b[39m.\u001b[39mname) \u001b[39m#not in excel anymore\u001b[39;00m\n\u001b[1;32m    754\u001b[0m     row\u001b[39m=\u001b[39mrow\u001b[39m+\u001b[39m\u001b[39m1\u001b[39m\n",
      "File \u001b[0;32m/Library/Frameworks/Python.framework/Versions/3.11/lib/python3.11/site-packages/pandas/core/indexing.py:2364\u001b[0m, in \u001b[0;36m_ScalarAccessIndexer.__getitem__\u001b[0;34m(self, key)\u001b[0m\n\u001b[1;32m   2361\u001b[0m         \u001b[39mraise\u001b[39;00m \u001b[39mValueError\u001b[39;00m(\u001b[39m\"\u001b[39m\u001b[39mInvalid call for scalar access (getting)!\u001b[39m\u001b[39m\"\u001b[39m)\n\u001b[1;32m   2363\u001b[0m key \u001b[39m=\u001b[39m \u001b[39mself\u001b[39m\u001b[39m.\u001b[39m_convert_key(key)\n\u001b[0;32m-> 2364\u001b[0m \u001b[39mreturn\u001b[39;00m \u001b[39mself\u001b[39;49m\u001b[39m.\u001b[39;49mobj\u001b[39m.\u001b[39;49m_get_value(\u001b[39m*\u001b[39;49mkey, takeable\u001b[39m=\u001b[39;49m\u001b[39mself\u001b[39;49m\u001b[39m.\u001b[39;49m_takeable)\n",
      "File \u001b[0;32m/Library/Frameworks/Python.framework/Versions/3.11/lib/python3.11/site-packages/pandas/core/frame.py:3877\u001b[0m, in \u001b[0;36mDataFrame._get_value\u001b[0;34m(self, index, col, takeable)\u001b[0m\n\u001b[1;32m   3875\u001b[0m \u001b[39mif\u001b[39;00m takeable:\n\u001b[1;32m   3876\u001b[0m     series \u001b[39m=\u001b[39m \u001b[39mself\u001b[39m\u001b[39m.\u001b[39m_ixs(col, axis\u001b[39m=\u001b[39m\u001b[39m1\u001b[39m)\n\u001b[0;32m-> 3877\u001b[0m     \u001b[39mreturn\u001b[39;00m series\u001b[39m.\u001b[39;49m_values[index]\n\u001b[1;32m   3879\u001b[0m series \u001b[39m=\u001b[39m \u001b[39mself\u001b[39m\u001b[39m.\u001b[39m_get_item_cache(col)\n\u001b[1;32m   3880\u001b[0m engine \u001b[39m=\u001b[39m \u001b[39mself\u001b[39m\u001b[39m.\u001b[39mindex\u001b[39m.\u001b[39m_engine\n",
      "\u001b[0;31mIndexError\u001b[0m: index 35 is out of bounds for axis 0 with size 35"
     ]
    }
   ],
   "source": [
    "# import back the excel that has filed in judgments and save the results in a file\n",
    "inputFile=\"carModel_Excel_filledInJudgments.xlsx\"\n",
    "outputFile = \"carModel_Results.xlsx\"\n",
    "calc.calcAHPMatricesSave2File(carModel,inputFile,outputFile,True,False,True,True)\n",
    "\n",
    "#the bove command will:\n",
    "#calculate supermatrix, weighted, limiting and global priorities\n",
    "#will save results to filepath of set as outputFile above\n",
    "#4th parameter: if an input file use is True then it will read the inputfile to generate the latest paiwise comp matrices otherwise from memory\n",
    "#5th parameter: if normal bar true then will show bars for normal eigen\n",
    "#6th parameter: if ideal bar true then will show bars for ideal eigen\n",
    "#7th parameter: if verbal true will print out the intermediate results"
   ]
  }
 ],
 "metadata": {
  "kernelspec": {
   "display_name": "Python 3",
   "language": "python",
   "name": "python3"
  },
  "language_info": {
   "codemirror_mode": {
    "name": "ipython",
    "version": 3
   },
   "file_extension": ".py",
   "mimetype": "text/x-python",
   "name": "python",
   "nbconvert_exporter": "python",
   "pygments_lexer": "ipython3",
   "version": "3.11.2"
  },
  "orig_nbformat": 4
 },
 "nbformat": 4,
 "nbformat_minor": 2
}
