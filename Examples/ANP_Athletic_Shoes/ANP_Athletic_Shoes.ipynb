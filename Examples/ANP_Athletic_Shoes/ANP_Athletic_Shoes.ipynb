{
 "cells": [
  {
   "cell_type": "markdown",
   "metadata": {},
   "source": [
    "# ANP Model: Atheletic Shoes"
   ]
  },
  {
   "cell_type": "code",
   "execution_count": 2,
   "metadata": {},
   "outputs": [],
   "source": [
    "# import libraries that we need\n",
    "from AhpAnpLib import inputs_AHPLib as input\n",
    "from AhpAnpLib import structs_AHPLib as str\n",
    "from AhpAnpLib import calcs_AHPLib as calc"
   ]
  },
  {
   "cell_type": "markdown",
   "metadata": {},
   "source": [
    "## 1. Create model structure: nodes, clusters and connections"
   ]
  },
  {
   "cell_type": "code",
   "execution_count": 3,
   "metadata": {},
   "outputs": [],
   "source": [
    "# create the model\n",
    "Shoesmodel=str.Model(\"Athletic Shoes model\")"
   ]
  },
  {
   "cell_type": "code",
   "execution_count": 4,
   "metadata": {},
   "outputs": [],
   "source": [
    "# create alternative nodes, clusters\n",
    "Alternatives=str.Cluster(\"1. Alternatives\",0)\n",
    "A1=str.Node(\"Adidas\",0)\n",
    "A2=str.Node(\"Nike\",1)\n",
    "A3=str.Node(\"Reebok\",2)\n",
    "\n",
    "Alternatives.addMultipleNodes2Cluster(A1,A2,A3)\n",
    "Shoesmodel.addCluster2Model(Alternatives)"
   ]
  },
  {
   "cell_type": "code",
   "execution_count": 5,
   "metadata": {},
   "outputs": [],
   "source": [
    "#Criteria: Advertising\n",
    "Advertising=str.Cluster(\"2. Advertising\",1)\n",
    "brand=str.Node(\"Brand Image\",3)\n",
    "creativity=str.Node(\"Creativity\",4)\n",
    "frequncy=str.Node(\"Frequency\",5)\n",
    "printAd=str.Node(\"Print Ad.\",6)\n",
    "television=str.Node(\"Television\",7)\n",
    "Advertising.addMultipleNodes2Cluster(brand,creativity,frequncy,printAd,television)\n",
    "Shoesmodel.addCluster2Model(Advertising)"
   ]
  },
  {
   "cell_type": "code",
   "execution_count": 6,
   "metadata": {},
   "outputs": [],
   "source": [
    "#Product characteristics\n",
    "Product=str.Cluster(\"3. Product Characteristics\",2)\n",
    "comfort=str.Node(\"Comfort\",8)\n",
    "innovation=str.Node(\"Innovation\",9)\n",
    "productline=str.Node(\"Product Line\",10)\n",
    "quality=str.Node(\"Quality\",11)\n",
    "style=str.Node(\"Style\",12)\n",
    "Product.addMultipleNodes2Cluster(comfort,innovation,productline,quality,style)\n",
    "Shoesmodel.addMultipleClusters2Model(Product)"
   ]
  },
  {
   "cell_type": "code",
   "execution_count": 7,
   "metadata": {},
   "outputs": [],
   "source": [
    "#Customers\n",
    "Customers=str.Cluster(\"4. Customers\",3)\n",
    "others=str.Node(\"Others\",13)\n",
    "professional=str.Node(\"Professional athletes\",14)\n",
    "students=str.Node(\"Students\",15)\n",
    "teenagers=str.Node(\"Teenagers\",16)\n",
    "urbanmale=str.Node(\"Urban male\",17)\n",
    "Customers.addMultipleNodes2Cluster(others,professional,students,teenagers,urbanmale)\n",
    "Shoesmodel.addCluster2Model(Customers)"
   ]
  },
  {
   "cell_type": "code",
   "execution_count": 8,
   "metadata": {},
   "outputs": [],
   "source": [
    "#add connections\n",
    "Shoesmodel.addNodeConnectionFromAllNodesToAllNodesOfCluster(\"1. Alternatives\",\"2. Advertising\")\n",
    "Shoesmodel.addNodeConnectionFromAllNodesToAllNodesOfCluster(\"1. Alternatives\",\"3. Product Characteristics\")\n",
    "Shoesmodel.addNodeConnectionFromAllNodesToAllNodesOfCluster(\"1. Alternatives\",\"4. Customers\")\n",
    "\n",
    "Shoesmodel.addNodeConnectionFromNodeToAllNodesOfCluster(\"Brand Image\",\"1. Alternatives\")\n",
    "Shoesmodel.addNodeConnectionFromNodeToAllNodesOfCluster(\"Brand Image\",\"4. Customers\")\n",
    "Shoesmodel.addNodeConnectionFromNodeToAllNodesOfCluster(\"Creativity\",\"1. Alternatives\")\n",
    "Shoesmodel.addNodeConnectionFromNodeToAllNodesOfCluster(\"Creativity\",\"3. Product Characteristics\")\n",
    "Shoesmodel.addNodeConnectionFromNodeToAllNodesOfCluster(\"Creativity\",\"4. Customers\")\n",
    "Shoesmodel.addNodeConnectionFromTo(\"Creativity\",\"Television\",False)\n",
    "Shoesmodel.addNodeConnectionFromTo(\"Creativity\",\"Print Ad.\",False)\n",
    "Shoesmodel.addNodeConnectionFromNodeToAllNodesOfCluster(\"Frequency\",\"1. Alternatives\")\n",
    "Shoesmodel.addNodeConnectionFromNodeToAllNodesOfCluster(\"Frequency\",\"4. Customers\")\n",
    "Shoesmodel.addNodeConnectionFromTo(\"Frequency\",\"Television\",False)\n",
    "Shoesmodel.addNodeConnectionFromTo(\"Frequency\",\"Print Ad.\",False)\n",
    "\n",
    "Shoesmodel.addNodeConnectionFromNodeToAllNodesOfCluster(\"Print Ad.\",\"1. Alternatives\")\n",
    "Shoesmodel.addNodeConnectionFromNodeToAllNodesOfCluster(\"Print Ad.\",\"3. Product Characteristics\")\n",
    "Shoesmodel.addNodeConnectionFromNodeToAllNodesOfCluster(\"Print Ad.\",\"4. Customers\")\n",
    "Shoesmodel.addNodeConnectionFromTo(\"Print Ad.\",\"Creativity\",False)\n",
    "Shoesmodel.addNodeConnectionFromTo(\"Print Ad.\",\"Frequency\",False)\n",
    "\n",
    "Shoesmodel.addNodeConnectionFromNodeToAllNodesOfCluster(\"Television\",\"1. Alternatives\")\n",
    "Shoesmodel.addNodeConnectionFromNodeToAllNodesOfCluster(\"Television\",\"3. Product Characteristics\")\n",
    "Shoesmodel.addNodeConnectionFromNodeToAllNodesOfCluster(\"Television\",\"4. Customers\")\n",
    "Shoesmodel.addNodeConnectionFromTo(\"Television\",\"Creativity\",False)\n",
    "Shoesmodel.addNodeConnectionFromTo(\"Television\",\"Frequency\",False)\n",
    "\n",
    "Shoesmodel.addNodeConnectionFromAllNodesToAllNodesOfCluster(\"3. Product Characteristics\",\"1. Alternatives\")\n",
    "Shoesmodel.addNodeConnectionFromAllNodesToAllNodesOfCluster(\"3. Product Characteristics\",\"4. Customers\")\n",
    "\n",
    "Shoesmodel.addNodeConnectionFromAllNodesToAllNodesOfCluster(\"4. Customers\",\"1. Alternatives\")\n",
    "Shoesmodel.addNodeConnectionFromAllNodesToAllNodesOfCluster(\"4. Customers\",\"2. Advertising\")\n",
    "Shoesmodel.addNodeConnectionFromAllNodesToAllNodesOfCluster(\"4. Customers\",\"3. Product Characteristics\")\n",
    "\n",
    "#professional athelets and students are not connected to Production line\n",
    "Shoesmodel.remNodeConnectionFromTo(\"Professional athletes\",\"Product Line\")\n",
    "Shoesmodel.remNodeConnectionFromTo(\"Students\",\"Product Line\")\n",
    "#urban male is not connected to Production line and Comfort\n",
    "Shoesmodel.remNodeConnectionFromTo(\"Urban male\",\"Comfort\")\n",
    "Shoesmodel.remNodeConnectionFromTo(\"Urban male\",\"Product Line\")"
   ]
  },
  {
   "cell_type": "markdown",
   "metadata": {},
   "source": [
    "## 2. Export Excel questionnaire"
   ]
  },
  {
   "cell_type": "code",
   "execution_count": 9,
   "metadata": {},
   "outputs": [],
   "source": [
    "#export questionnaires\n",
    "input.export4ExcelQuestFull(Shoesmodel,\"Athletic Shoes model_empty.xlsx\",show_estimates=True,verb=False)"
   ]
  }
 ],
 "metadata": {
  "kernelspec": {
   "display_name": "Python 3",
   "language": "python",
   "name": "python3"
  },
  "language_info": {
   "codemirror_mode": {
    "name": "ipython",
    "version": 3
   },
   "file_extension": ".py",
   "mimetype": "text/x-python",
   "name": "python",
   "nbconvert_exporter": "python",
   "pygments_lexer": "ipython3",
   "version": "3.11.2"
  }
 },
 "nbformat": 4,
 "nbformat_minor": 2
}
