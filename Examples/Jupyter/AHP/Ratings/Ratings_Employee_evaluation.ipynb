{
 "cells": [
  {
   "cell_type": "markdown",
   "metadata": {},
   "source": [
    "### 1. Import libraries"
   ]
  },
  {
   "cell_type": "code",
   "execution_count": 2,
   "metadata": {},
   "outputs": [
    {
     "ename": "ModuleNotFoundError",
     "evalue": "No module named 'functions_AHPLib'",
     "output_type": "error",
     "traceback": [
      "\u001b[0;31m---------------------------------------------------------------------------\u001b[0m",
      "\u001b[0;31mModuleNotFoundError\u001b[0m                       Traceback (most recent call last)",
      "Cell \u001b[0;32mIn[2], line 1\u001b[0m\n\u001b[0;32m----> 1\u001b[0m \u001b[39mfrom\u001b[39;00m \u001b[39mAhpAnpLib\u001b[39;00m \u001b[39mimport\u001b[39;00m inputs_AHPLib \u001b[39mas\u001b[39;00m \u001b[39minput\u001b[39m\n\u001b[1;32m      2\u001b[0m \u001b[39mfrom\u001b[39;00m \u001b[39mAhpAnpLib\u001b[39;00m \u001b[39mimport\u001b[39;00m structs_AHPLib \u001b[39mas\u001b[39;00m \u001b[39mstr\u001b[39m\n\u001b[1;32m      3\u001b[0m \u001b[39mfrom\u001b[39;00m \u001b[39mAhpAnpLib\u001b[39;00m \u001b[39mimport\u001b[39;00m calcs_AHPLib \u001b[39mas\u001b[39;00m calc\n",
      "File \u001b[0;32m/Library/Frameworks/Python.framework/Versions/3.11/lib/python3.11/site-packages/AhpAnpLib/inputs_AHPLib.py:2\u001b[0m\n\u001b[1;32m      1\u001b[0m \u001b[39mfrom\u001b[39;00m \u001b[39mAhpAnpLib\u001b[39;00m \u001b[39mimport\u001b[39;00m functions_AHPLib \u001b[39mas\u001b[39;00m reqLib\n\u001b[0;32m----> 2\u001b[0m \u001b[39mfrom\u001b[39;00m \u001b[39mAhpAnpLib\u001b[39;00m \u001b[39mimport\u001b[39;00m calcs_AHPLib \u001b[39mas\u001b[39;00m cdf_calc\n\u001b[1;32m      3\u001b[0m \u001b[39mfrom\u001b[39;00m \u001b[39mAhpAnpLib\u001b[39;00m \u001b[39mimport\u001b[39;00m ratings_AHPLib \u001b[39mas\u001b[39;00m cdf_rat\n\u001b[1;32m      4\u001b[0m \u001b[39mfrom\u001b[39;00m \u001b[39mAhpAnpLib\u001b[39;00m \u001b[39mimport\u001b[39;00m structs_AHPLib \u001b[39mas\u001b[39;00m cdf_str\n",
      "File \u001b[0;32m/Library/Frameworks/Python.framework/Versions/3.11/lib/python3.11/site-packages/AhpAnpLib/calcs_AHPLib.py:3\u001b[0m\n\u001b[1;32m      1\u001b[0m \u001b[39mfrom\u001b[39;00m \u001b[39mAhpAnpLib\u001b[39;00m \u001b[39mimport\u001b[39;00m functions_AHPLib \u001b[39mas\u001b[39;00m reqLib\n\u001b[1;32m      2\u001b[0m \u001b[39mfrom\u001b[39;00m \u001b[39mAhpAnpLib\u001b[39;00m \u001b[39mimport\u001b[39;00m inputs_AHPLib \u001b[39mas\u001b[39;00m cdf_inp\n\u001b[0;32m----> 3\u001b[0m \u001b[39mfrom\u001b[39;00m \u001b[39mAhpAnpLib\u001b[39;00m \u001b[39mimport\u001b[39;00m structs_AHPLib \u001b[39mas\u001b[39;00m cdf_str\n\u001b[1;32m      4\u001b[0m \u001b[39m# import functions_AHPLib as reqLib\u001b[39;00m\n\u001b[1;32m      5\u001b[0m \u001b[39m# import inputs_AHPLib as cdf_inp\u001b[39;00m\n\u001b[1;32m      6\u001b[0m \u001b[39m# import structs_AHPLib as cdf_str\u001b[39;00m\n\u001b[1;32m      7\u001b[0m \u001b[39m#based on Bill Adams initial pyanp calculations\u001b[39;00m\n\u001b[1;32m      9\u001b[0m \u001b[39mdef\u001b[39;00m \u001b[39mvector2matrix\u001b[39m(vector,size):\n",
      "File \u001b[0;32m/Library/Frameworks/Python.framework/Versions/3.11/lib/python3.11/site-packages/AhpAnpLib/structs_AHPLib.py:2\u001b[0m\n\u001b[1;32m      1\u001b[0m \u001b[39mfrom\u001b[39;00m \u001b[39mAhpAnpLib\u001b[39;00m \u001b[39mimport\u001b[39;00m functions_AHPLib \u001b[39mas\u001b[39;00m reqLib\n\u001b[0;32m----> 2\u001b[0m \u001b[39mfrom\u001b[39;00m \u001b[39mAhpAnpLib\u001b[39;00m \u001b[39mimport\u001b[39;00m ratings_AHPLib \u001b[39mas\u001b[39;00m rate\n\u001b[1;32m      3\u001b[0m \u001b[39m# import functions_AHPLib as reqLib\u001b[39;00m\n\u001b[1;32m      4\u001b[0m \u001b[39m# import ratings_AHPLib as rate\u001b[39;00m\n\u001b[1;32m      5\u001b[0m \u001b[39mclass\u001b[39;00m \u001b[39mModel\u001b[39;00m:\n",
      "File \u001b[0;32m/Library/Frameworks/Python.framework/Versions/3.11/lib/python3.11/site-packages/AhpAnpLib/ratings_AHPLib.py:5\u001b[0m\n\u001b[1;32m      3\u001b[0m \u001b[39mfrom\u001b[39;00m \u001b[39mAhpAnpLib\u001b[39;00m \u001b[39mimport\u001b[39;00m structs_AHPLib \u001b[39mas\u001b[39;00m cdf_str\n\u001b[1;32m      4\u001b[0m \u001b[39mfrom\u001b[39;00m \u001b[39mAhpAnpLib\u001b[39;00m \u001b[39mimport\u001b[39;00m calcs_AHPLib \u001b[39mas\u001b[39;00m cdf_calc\n\u001b[0;32m----> 5\u001b[0m \u001b[39mimport\u001b[39;00m \u001b[39mfunctions_AHPLib\u001b[39;00m \u001b[39mas\u001b[39;00m \u001b[39mreqLib\u001b[39;00m\n\u001b[1;32m      6\u001b[0m \u001b[39m# import inputs_AHPLib as cdf_inp\u001b[39;00m\n\u001b[1;32m      7\u001b[0m \u001b[39m# import structs_AHPLib as cdf_str\u001b[39;00m\n\u001b[1;32m      8\u001b[0m \u001b[39m# import calcs_AHPLib as cdf_calc\u001b[39;00m\n\u001b[1;32m      9\u001b[0m \u001b[39mclass\u001b[39;00m \u001b[39mRatScale\u001b[39;00m:\n",
      "\u001b[0;31mModuleNotFoundError\u001b[0m: No module named 'functions_AHPLib'"
     ]
    }
   ],
   "source": [
    "from AhpAnpLib import inputs_AHPLib as input\n",
    "from AhpAnpLib import structs_AHPLib as str\n",
    "from AhpAnpLib import calcs_AHPLib as calc\n",
    "from AhpAnpLib import ratings_AHPLib as rate"
   ]
  },
  {
   "cell_type": "markdown",
   "metadata": {},
   "source": [
    "### 2. Create model"
   ]
  },
  {
   "cell_type": "code",
   "execution_count": 4,
   "metadata": {},
   "outputs": [
    {
     "ename": "AttributeError",
     "evalue": "type object 'str' has no attribute 'Model'",
     "output_type": "error",
     "traceback": [
      "\u001b[0;31m---------------------------------------------------------------------------\u001b[0m",
      "\u001b[0;31mAttributeError\u001b[0m                            Traceback (most recent call last)",
      "Cell \u001b[0;32mIn[4], line 1\u001b[0m\n\u001b[0;32m----> 1\u001b[0m EmployEvaluation \u001b[39m=\u001b[39m \u001b[39mstr\u001b[39;49m\u001b[39m.\u001b[39;49mModel(\u001b[39m\"\u001b[39m\u001b[39mEmployee Evaluation\u001b[39m\u001b[39m\"\u001b[39m)\n",
      "\u001b[0;31mAttributeError\u001b[0m: type object 'str' has no attribute 'Model'"
     ]
    }
   ],
   "source": [
    "EmployEvaluation = str.Model(\"Employee Evaluation\")"
   ]
  },
  {
   "cell_type": "markdown",
   "metadata": {},
   "source": [
    "### 3. Create clusters, nodes and add nodes to clusters"
   ]
  },
  {
   "cell_type": "code",
   "execution_count": null,
   "metadata": {},
   "outputs": [],
   "source": [
    "# we can add alternatives now the same as we do in AHP/ANP model"
   ]
  },
  {
   "cell_type": "markdown",
   "metadata": {},
   "source": [
    "### 4. Add clustes to the model and set up connections"
   ]
  },
  {
   "cell_type": "code",
   "execution_count": 6,
   "metadata": {},
   "outputs": [],
   "source": [
    "# we created alternatives but we will not add connections to criteria in the AHP model\n",
    "# we will add alternatives in the ratings model"
   ]
  },
  {
   "cell_type": "markdown",
   "metadata": {},
   "source": [
    "### 5.Set model as ratings model"
   ]
  },
  {
   "cell_type": "code",
   "execution_count": 5,
   "metadata": {},
   "outputs": [
    {
     "ename": "NameError",
     "evalue": "name 'EmployEvaluation' is not defined",
     "output_type": "error",
     "traceback": [
      "\u001b[0;31m---------------------------------------------------------------------------\u001b[0m",
      "\u001b[0;31mNameError\u001b[0m                                 Traceback (most recent call last)",
      "Cell \u001b[0;32mIn[5], line 1\u001b[0m\n\u001b[0;32m----> 1\u001b[0m EmployEvaluation\u001b[39m.\u001b[39msetModelTypeRatings()\n",
      "\u001b[0;31mNameError\u001b[0m: name 'EmployEvaluation' is not defined"
     ]
    }
   ],
   "source": [
    "EmployEvaluation.setModelTypeRatings()"
   ]
  },
  {
   "cell_type": "markdown",
   "metadata": {},
   "source": [
    "### 6. Add bottom level criteria to use in the ratings model"
   ]
  },
  {
   "cell_type": "code",
   "execution_count": null,
   "metadata": {},
   "outputs": [],
   "source": [
    "EmployEvaluation.rateModel.addCriteriaByVar()\n",
    "EmployEvaluation.rateModel.addCriteriaByName()"
   ]
  },
  {
   "cell_type": "markdown",
   "metadata": {},
   "source": [
    "### 7. Add alternatives in the ratings model"
   ]
  },
  {
   "cell_type": "code",
   "execution_count": 7,
   "metadata": {},
   "outputs": [],
   "source": [
    "# You can create alternatives in advance or create new altenatives when adding alternatives in the ratings model\n",
    "EmployEvaluation.rateModel.addAlternativesByName()\n",
    "EmployEvaluation.rateModel.addAlternativesByVar()"
   ]
  },
  {
   "cell_type": "markdown",
   "metadata": {},
   "source": [
    "### 9. Create scales add the scales to the ratings model"
   ]
  },
  {
   "cell_type": "code",
   "execution_count": null,
   "metadata": {},
   "outputs": [],
   "source": [
    "# 1. Create a new scale\n",
    "scalea=rate.RatScale(\"A scale name\")\n",
    "scalea.defineScaleByValue(None,False,\n",
    "                          [\"Excellent\",100],\n",
    "                          [\"Normal\",80])\n",
    "# add the scale to the model\n",
    "EmployEvaluation.rateModel.addScaleByVar(scalea)\n",
    "# 2. define scale by value (make pairewise comparisons in Excel questionnaire)\n",
    "scaleb=rate.RatScale(\"scale b\")\n",
    "scaleb.defineScaleByValue(None,False,\"Good\",\"Fair\")\n",
    "EmployEvaluation.rateModel.addScaleByVar(scaleb)\n",
    "# 3. import from rcp file\n",
    "scalec = input.readRatScaleRPCfile(\"scale c\", \"normal.rcp\")\n",
    "EmployEvaluation.rateModel.addScaleByVar(scalec)\n"
   ]
  },
  {
   "cell_type": "markdown",
   "metadata": {},
   "source": [
    "### 10. Assign scales to Criteria"
   ]
  },
  {
   "cell_type": "code",
   "execution_count": null,
   "metadata": {},
   "outputs": [],
   "source": [
    "EmployEvaluation.rateModel.assignScale2CriterionByName(\"criteria name\",\"scale b\")"
   ]
  },
  {
   "cell_type": "markdown",
   "metadata": {},
   "source": [
    "### 11. Export questionnair to Excel file and import filledin Excel file"
   ]
  },
  {
   "cell_type": "code",
   "execution_count": 10,
   "metadata": {},
   "outputs": [],
   "source": [
    "# The command will export formated excel criteria pairwise compare file\n",
    "input.export4ExcelQuestFull(EmployEvaluation,\"filename.xlsx\",True)\n",
    "# import from Excel\n",
    "input.importFromExcel(EmployEvaluation,\"inputfile.xlsx\")\n",
    "calc.calcAHPMatricesSave2File(EmployEvaluation,\"inputFilePath\",\"outputFilePath\",True,False,True)"
   ]
  },
  {
   "cell_type": "code",
   "execution_count": null,
   "metadata": {},
   "outputs": [],
   "source": [
    "# the command will export ratings scales pairwise comparison file in sheet 1\n",
    "# and the ratings table will be export to the same Excel file in sheet 2\n",
    "input.export4ExcelRatingsSetup(EmployEvaluation,\"filename.xlsx\")\n",
    "input.calcExcelRatings(EmployEvaluation,\"filedin filename\")"
   ]
  },
  {
   "cell_type": "code",
   "execution_count": null,
   "metadata": {},
   "outputs": [],
   "source": []
  }
 ],
 "metadata": {
  "kernelspec": {
   "display_name": "Python 3",
   "language": "python",
   "name": "python3"
  },
  "language_info": {
   "codemirror_mode": {
    "name": "ipython",
    "version": 3
   },
   "file_extension": ".py",
   "mimetype": "text/x-python",
   "name": "python",
   "nbconvert_exporter": "python",
   "pygments_lexer": "ipython3",
   "version": "3.11.2"
  },
  "orig_nbformat": 4
 },
 "nbformat": 4,
 "nbformat_minor": 2
}
