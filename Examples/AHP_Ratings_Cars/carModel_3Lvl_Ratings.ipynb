{
 "cells": [
  {
   "cell_type": "markdown",
   "metadata": {},
   "source": [
    "### AHP Ratings Car Model"
   ]
  },
  {
   "cell_type": "markdown",
   "metadata": {},
   "source": [
    "#### 1. Import libraries"
   ]
  },
  {
   "cell_type": "code",
   "execution_count": 1,
   "metadata": {},
   "outputs": [],
   "source": [
    "from AhpAnpLib import inputs_AHPLib as input\n",
    "from AhpAnpLib import structs_AHPLib as str\n",
    "from AhpAnpLib import calcs_AHPLib as calc\n",
    "from AhpAnpLib import ratings_AHPLib as rate"
   ]
  },
  {
   "cell_type": "markdown",
   "metadata": {},
   "source": [
    "#### 2. Create the AHP structure"
   ]
  },
  {
   "cell_type": "code",
   "execution_count": 2,
   "metadata": {},
   "outputs": [],
   "source": [
    "#create model\n",
    "carModel=str.Model(\"Car Ratings\")"
   ]
  },
  {
   "cell_type": "code",
   "execution_count": 3,
   "metadata": {},
   "outputs": [],
   "source": [
    "#create nodes\n",
    "goal_node=str.Node(\"GoalNode\",0)\n",
    "\n",
    "prestige=str.Node(\"1Prestige\",1)\n",
    "price=str.Node(\"2Price\",2)\n",
    "mpg=str.Node(\"3MPG\",3)\n",
    "comf=str.Node(\"4Comfort\",4)\n",
    "\n",
    "sub1=str.Node(\"2.1InitialCost\",5)\n",
    "sub2=str.Node(\"2.2Maintenance\",6)\n",
    "\n",
    "\n",
    "alt1=str.Node(\"1Acura TL\",7)\n",
    "alt2=str.Node(\"2Toyota Camry\",8)\n",
    "alt3=str.Node(\"3Honda Civic\",9)"
   ]
  },
  {
   "cell_type": "code",
   "execution_count": 4,
   "metadata": {},
   "outputs": [],
   "source": [
    "#create clusters\n",
    "cluster0=str.Cluster(\"1Goal\",0)\n",
    "cluster1=str.Cluster(\"2Criteria\",1)\n",
    "cluster2=str.Cluster(\"PriceSubCriteria\",2)\n",
    "cluster3=str.Cluster(\"3Alternatives\",3)"
   ]
  },
  {
   "cell_type": "code",
   "execution_count": 5,
   "metadata": {},
   "outputs": [],
   "source": [
    "#add nodes to clusters\n",
    "cluster0.addNode2Cluster(goal_node) \n",
    "\n",
    "cluster1.addNode2Cluster(prestige)\n",
    "cluster1.addNode2Cluster(price)\n",
    "cluster1.addNode2Cluster(mpg)\n",
    "cluster1.addNode2Cluster(comf)\n",
    "\n",
    "cluster2.addNode2Cluster(sub1)\n",
    "cluster2.addNode2Cluster(sub2)\n",
    "\n",
    "cluster3.addNode2Cluster(alt1)\n",
    "cluster3.addNode2Cluster(alt2)\n",
    "cluster3.addNode2Cluster(alt3)"
   ]
  },
  {
   "cell_type": "code",
   "execution_count": 6,
   "metadata": {},
   "outputs": [],
   "source": [
    "#add clusters to model \n",
    "carModel.addCluster2Model(cluster0)\n",
    "carModel.addCluster2Model(cluster1)\n",
    "carModel.addCluster2Model(cluster2)\n",
    "carModel.addCluster2Model(cluster3)"
   ]
  },
  {
   "cell_type": "code",
   "execution_count": 7,
   "metadata": {},
   "outputs": [],
   "source": [
    "#set up node connections from Goal Node to all the nodes of the 2Criteria cluster\n",
    "carModel.addNodeConnectionFromNodeToAllNodesOfCluster(\"GoalNode\",\"2Criteria\")\n",
    "\n",
    "carModel.addNodeConnectionFromNodeToAllNodesOfCluster(\"2Price\",\"PriceSubCriteria\")"
   ]
  },
  {
   "cell_type": "markdown",
   "metadata": {},
   "source": [
    "In rating model, we don't need to connect criteria or subcriteria with the alternatives when setting up the structure."
   ]
  },
  {
   "cell_type": "markdown",
   "metadata": {},
   "source": [
    "#### 3. Set up ratings model"
   ]
  },
  {
   "cell_type": "markdown",
   "metadata": {},
   "source": [
    "After setting up the structure, we will need then set up the model type to ratings model."
   ]
  },
  {
   "cell_type": "code",
   "execution_count": 8,
   "metadata": {},
   "outputs": [],
   "source": [
    "#set model type to ratings\n",
    "carModel.setModelTypeRatings()"
   ]
  },
  {
   "cell_type": "markdown",
   "metadata": {},
   "source": [
    "#### 3.1 Step 1: Add criteria to the ratings model\n",
    "Select bottom level criteria to use in the ratings model."
   ]
  },
  {
   "cell_type": "code",
   "execution_count": 9,
   "metadata": {},
   "outputs": [],
   "source": [
    "carModel.rateModel.addCriteriaByName(\"1Prestige\",\"3MPG\",\"4Comfort\")\n",
    "carModel.rateModel.addCriteriaByName(\"2.1InitialCost\",\"2.2Maintenance\")"
   ]
  },
  {
   "cell_type": "markdown",
   "metadata": {},
   "source": [
    "#### 3.2 Add alternatives to the ratings model\n",
    "We can create the alternatives to be used in the ratings model in advance or add new ones."
   ]
  },
  {
   "cell_type": "code",
   "execution_count": 10,
   "metadata": {},
   "outputs": [],
   "source": [
    "# the alternatives we created already when create structure of the model\n",
    "carModel.rateModel.addAlternativesByName(\"1Acura TL\",\"2Toyota Camry\",\"3Honda Civic\")\n",
    "\n",
    "# add new alternatives that we haven't created\n",
    "carModel.rateModel.addAlternativesByName(\"4Fiat\",\"5MiniCooper\",\"6Kia Rio\")"
   ]
  },
  {
   "cell_type": "markdown",
   "metadata": {},
   "source": [
    "#### 3.3 Create scales and assign scales to the model"
   ]
  },
  {
   "cell_type": "markdown",
   "metadata": {},
   "source": [
    "There are different ways of adding scales to the model: import a scale from rcp file (super decisions scale file), create a scale and define the values directly and create a scale and provide categories and get the priorities through judgments."
   ]
  },
  {
   "cell_type": "code",
   "execution_count": 11,
   "metadata": {},
   "outputs": [],
   "source": [
    "#this is how we add a scale that we already know its values\n",
    "scale1a=rate.RatScale(\"PriceScale\")\n",
    "scale1a.defineScaleByValue(None,False,\n",
    "[\"More than 30 K\", 51],\n",
    "[\"Between 25K and 30K\",100], \n",
    "[\"Between 20K and 25K\",39],\n",
    "[\"Less than 20K\",9]\n",
    ")\n",
    "#add scale to model\n",
    "carModel.rateModel.addScaleByVar(scale1a)"
   ]
  },
  {
   "cell_type": "code",
   "execution_count": 12,
   "metadata": {},
   "outputs": [],
   "source": [
    "#read scale from RCP file -- generated by Super Decisions (legacy software tool for AHP/ANPcd)\n",
    "scale1=input.readRatScaleRCPfile(\"Excellent2Poor_ScaleRCP\",\"./RateScales/1.rcp\")\n",
    "carModel.rateModel.addScaleByVar(scale1)\n",
    "\n",
    "scale2_1=input.readRatScaleRCPfile(\"Price_ScaleRCP\",\"./RateScales/2_1.rcp\")\n",
    "carModel.rateModel.addScaleByVar(scale2_1)\n",
    "\n",
    "scale2_2=input.readRatScaleRCPfile(\"HighMediumLow_ScaleRCP\",\"./RateScales/2_2.rcp\")\n",
    "carModel.rateModel.addScaleByVar(scale2_2)\n",
    "\n",
    "scale3=input.readRatScaleRCPfile(\"GoodMediumPoor_ScaleRCP\",\"./RateScales/3.rcp\")\n",
    "carModel.rateModel.addScaleByVar(scale3)"
   ]
  },
  {
   "cell_type": "code",
   "execution_count": 13,
   "metadata": {},
   "outputs": [],
   "source": [
    "#assign scales to criteria that already belong to the ratings model\n",
    "carModel.rateModel.assignScale2CriterionByName(\"1Prestige\",\"Excellent2Poor_ScaleRCP\")\n",
    "carModel.rateModel.assignScale2CriterionByName(\"2.1InitialCost\",\"Price_ScaleRCP\")\n",
    "carModel.rateModel.assignScale2CriterionByName(\"2.2Maintenance\",\"HighMediumLow_ScaleRCP\")\n",
    "carModel.rateModel.assignScale2CriterionByName(\"3MPG\",\"GoodMediumPoor_ScaleRCP\")\n",
    "#when the same scale is assigned to two criteria then the scale gets duplicated so 1 scale corresponds to 1 criterion\n",
    "carModel.rateModel.assignScale2CriterionByName(\"4Comfort\",\"Excellent2Poor_ScaleRCP\")"
   ]
  },
  {
   "cell_type": "markdown",
   "metadata": {},
   "source": [
    "#### 4. Export Excel questionnaires to get priorities of criteria"
   ]
  },
  {
   "cell_type": "code",
   "execution_count": 14,
   "metadata": {},
   "outputs": [],
   "source": [
    "input.export4ExcelQuestFull(carModel,\"carModel_Ratings_Criteria_empty.xlsx\",True)"
   ]
  },
  {
   "cell_type": "markdown",
   "metadata": {},
   "source": [
    "#### 5. Import Excel questionnaires and generate ratings table"
   ]
  },
  {
   "cell_type": "code",
   "execution_count": 15,
   "metadata": {},
   "outputs": [],
   "source": [
    "inputFilePath=\"carModel_Ratings_Criteria_FilledIn.xlsx\"\n",
    "outputFilePath=\"carModel_Ratings_Criteria_initialresults.xlsx\"\n",
    "\n",
    "# import criteria judgments and calculate criteria priorities\n",
    "calc.calcAHPMatricesSave2File(carModel,inputFilePath,outputFilePath,True,False,True)"
   ]
  },
  {
   "cell_type": "code",
   "execution_count": 16,
   "metadata": {},
   "outputs": [
    {
     "name": "stdout",
     "output_type": "stream",
     "text": [
      "load\n",
      "No ratings tables available to load\n"
     ]
    }
   ],
   "source": [
    "# export ratings table\n",
    "inputFilePath2=\"carModel_Ratings_Table_empty.xlsx\"\n",
    "input.export4ExcelRatingsSetup(carModel,inputFilePath2,True)"
   ]
  },
  {
   "cell_type": "markdown",
   "metadata": {},
   "source": [
    "#### 6. Import ratings table and calculate results"
   ]
  },
  {
   "cell_type": "code",
   "execution_count": 17,
   "metadata": {},
   "outputs": [
    {
     "name": "stdout",
     "output_type": "stream",
     "text": [
      "Excellent2Poor_ScaleRCP [[1.000 2.000 5.000 7.000 9.000]\n",
      " [0.500 1.000 4.000 5.000 8.000]\n",
      " [0.200 0.250 1.000 4.000 7.000]\n",
      " [0.143 0.200 0.250 1.000 3.000]\n",
      " [0.111 0.125 0.143 0.333 1.000]]\n",
      "[0.073]\n",
      "GoodMediumPoor_ScaleRCP [[1.000 4.000 9.000]\n",
      " [0.250 1.000 6.000]\n",
      " [0.111 0.167 1.000]]\n",
      "[0.073, 0.104]\n",
      "Excellent2Poor_ScaleRCP_cp [[1.000 2.000 5.000 7.000 9.000]\n",
      " [0.500 1.000 4.000 5.000 8.000]\n",
      " [0.200 0.250 1.000 4.000 7.000]\n",
      " [0.143 0.200 0.250 1.000 3.000]\n",
      " [0.111 0.125 0.143 0.333 1.000]]\n",
      "[0.073, 0.104, 0.073]\n",
      "Price_ScaleRCP [[1.000 0.500 2.000 4.000]\n",
      " [2.000 1.000 4.000 7.000]\n",
      " [0.500 0.250 1.000 8.000]\n",
      " [0.250 0.143 0.125 1.000]]\n",
      "[0.073, 0.104, 0.073, 0.104]\n",
      "HighMediumLow_ScaleRCP [[1.000 0.347 0.080]\n",
      " [2.884 1.000 0.231]\n",
      " [12.480 4.327 1.000]]\n",
      "[0.073, 0.104, 0.073, 0.104, 0.0]\n",
      "[array([0.463, 0.307, 0.142, 0.058, 0.030]), array([0.701, 0.243, 0.056]), array([0.463, 0.307, 0.142, 0.058, 0.030]), array([0.255, 0.500, 0.196, 0.049]), array([0.061, 0.176, 0.763])]\n",
      "[[1.0, 0.6643259866829985, 0.30614159048892337, 0.12631063746872598, 0.06472209167214381], [1.0, 0.34668063712819, 0.08012497612168934], [1.0, 0.6643259866829985, 0.30614159048892337, 0.12631063746872598, 0.06472209167214381], [0.5114109288280598, 1.0, 0.3926366103507487, 0.09759908716072146], [0.08012894726329862, 0.2311301521177328, 1.0]]\n",
      "load\n"
     ]
    },
    {
     "name": "stderr",
     "output_type": "stream",
     "text": [
      "/Library/Frameworks/Python.framework/Versions/3.11/lib/python3.11/site-packages/openpyxl/worksheet/_reader.py:329: UserWarning: Unknown extension is not supported and will be removed\n",
      "  warn(msg)\n",
      "/Library/Frameworks/Python.framework/Versions/3.11/lib/python3.11/site-packages/openpyxl/worksheet/_reader.py:329: UserWarning: Conditional Formatting extension is not supported and will be removed\n",
      "  warn(msg)\n"
     ]
    }
   ],
   "source": [
    "inputFilePath3=\"carModel_Ratings_Table_filledIn.xlsx\"\n",
    "outputFilePath2=\"carModel_Ratings_Results.xlsx\"\n",
    "input.calcExcelRatings(carModel,inputFilePath3,outputFilePath2,False)"
   ]
  }
 ],
 "metadata": {
  "kernelspec": {
   "display_name": "Python 3",
   "language": "python",
   "name": "python3"
  },
  "language_info": {
   "codemirror_mode": {
    "name": "ipython",
    "version": 3
   },
   "file_extension": ".py",
   "mimetype": "text/x-python",
   "name": "python",
   "nbconvert_exporter": "python",
   "pygments_lexer": "ipython3",
   "version": "3.11.2"
  },
  "orig_nbformat": 4
 },
 "nbformat": 4,
 "nbformat_minor": 2
}
