{
 "cells": [
  {
   "cell_type": "markdown",
   "metadata": {},
   "source": [
    "### 1. import libraries"
   ]
  },
  {
   "cell_type": "code",
   "execution_count": 1,
   "metadata": {},
   "outputs": [],
   "source": [
    "# from AhpAnpLib import *\n",
    "from AhpAnpLib import inputs_AHPLib as input\n",
    "from AhpAnpLib import structs_AHPLib as str\n",
    "from AhpAnpLib import calcs_AHPLib as calc\n",
    "from AhpAnpLib import ratings_AHPLib as rate"
   ]
  },
  {
   "cell_type": "markdown",
   "metadata": {},
   "source": [
    "### 2. Set up AHP model structure"
   ]
  },
  {
   "cell_type": "code",
   "execution_count": 2,
   "metadata": {},
   "outputs": [],
   "source": [
    "#create model\n",
    "lunchModel=str.Model(\"Where to order lunch\")"
   ]
  },
  {
   "cell_type": "code",
   "execution_count": 3,
   "metadata": {},
   "outputs": [],
   "source": [
    "#create goal and criteria nodes\n",
    "# goal\n",
    "goal_node=str.Node(\"GoalNode\",0)\n",
    "# criteria\n",
    "quality=str.Node(\"1Quality\",1)\n",
    "price=str.Node(\"2Price\",2)\n",
    "menu=str.Node(\"3Menu\",3)\n",
    "speed=str.Node(\"4Speed\",4)\n",
    "\n",
    "# alternative nodes can be created here or later\n",
    "#alt1=str.Node(\"1Primanti\",5)\n",
    "#alt2=str.Node(\"2Panera\",6)\n",
    "#alt3=str.Node(\"3Piada\",7)"
   ]
  },
  {
   "cell_type": "code",
   "execution_count": 4,
   "metadata": {},
   "outputs": [],
   "source": [
    "#create clusters\n",
    "cluster0=str.Cluster(\"1Goal\",0)\n",
    "cluster1=str.Cluster(\"2Criteria\",1)\n",
    "\n",
    "#add nodes to clusters\n",
    "cluster0.addNode2Cluster(goal_node) \n",
    "\n",
    "cluster1.addNode2Cluster(menu)\n",
    "cluster1.addNode2Cluster(price)\n",
    "cluster1.addNode2Cluster(quality)\n",
    "cluster1.addNode2Cluster(speed)"
   ]
  },
  {
   "cell_type": "code",
   "execution_count": 5,
   "metadata": {},
   "outputs": [],
   "source": [
    "#add goal and criteria clusters to the model \n",
    "lunchModel.addCluster2Model(cluster0)\n",
    "lunchModel.addCluster2Model(cluster1)"
   ]
  },
  {
   "cell_type": "code",
   "execution_count": 6,
   "metadata": {},
   "outputs": [
    {
     "name": "stdout",
     "output_type": "stream",
     "text": [
      "_________________________MODEL STRUCTURE_________________________\n",
      "Name: Where to order lunch\n",
      "Type: pairwise\n",
      "\n",
      "____________________________NODES_______________________________\n",
      "GoalNode order: 0\n",
      "1Quality order: 1\n",
      "2Price order: 2\n",
      "3Menu order: 3\n",
      "4Speed order: 4\n",
      "____________________________CLUSTERS____________________________\n",
      "1Goal order: 0\n",
      "2Criteria order: 1\n",
      "_________________________NODE CONNECTIONS___________________________\n",
      "Connections from node GoalNode order: 0\n",
      " to: 3Menu order: 3\n",
      " to: 2Price order: 2\n",
      " to: 1Quality order: 1\n",
      " to: 4Speed order: 4\n",
      "No connections from 1Quality\n",
      "No connections from 2Price\n",
      "No connections from 3Menu\n",
      "No connections from 4Speed\n",
      "_________________________CLUSTER CONNECTIONS__________________\n",
      "Connection(s) from cluster 1Goal order: 0\n",
      " to: 2Criteria order: 1\n",
      "No connections from 2Criteria\n"
     ]
    }
   ],
   "source": [
    "#set up node connections from Goal Node to all the nodes of the 2Criteria cluster\n",
    "#we don't add connections to alternatives in the ratings model\n",
    "lunchModel.addNodeConnectionFromNodeToAllNodesOfCluster(\"GoalNode\",\"2Criteria\")\n",
    "\n",
    "# Print out model to validate the structure\n",
    "lunchModel.printStruct()"
   ]
  },
  {
   "cell_type": "markdown",
   "metadata": {},
   "source": [
    "### 3. Set up ratings model"
   ]
  },
  {
   "cell_type": "markdown",
   "metadata": {},
   "source": [
    "#### Step 1 Set the model to be a ratings model"
   ]
  },
  {
   "cell_type": "code",
   "execution_count": 7,
   "metadata": {},
   "outputs": [],
   "source": [
    "# set the model to be a ratings model using the setModelTypeRatings command\n",
    "lunchModel.setModelTypeRatings()"
   ]
  },
  {
   "cell_type": "markdown",
   "metadata": {},
   "source": [
    "#### Step 2 Add Criteria to the model"
   ]
  },
  {
   "cell_type": "code",
   "execution_count": 8,
   "metadata": {},
   "outputs": [],
   "source": [
    "# select all criteria from bottom level criteria (if you have subcriteria, then no need to add their parent criteria)\n",
    "# we can use either rateModel.addCriteriaByVar command to add criteria using variable name\n",
    "# or we can use rateModel.addCriteriaByName command to add criteria using names of criteria\n",
    "lunchModel.rateModel.addCriteriaByVar(quality,price,menu)\n",
    "lunchModel.rateModel.addCriteriaByName(\"4Speed\")"
   ]
  },
  {
   "cell_type": "markdown",
   "metadata": {},
   "source": [
    "#### Step 3 Add Alternatives to the model"
   ]
  },
  {
   "cell_type": "code",
   "execution_count": 9,
   "metadata": {},
   "outputs": [],
   "source": [
    "# add ratings altenatives\n",
    "lunchModel.rateModel.addAlternativesByName(\"1Panera\",\"2Primanti\",\"3Subway\")"
   ]
  },
  {
   "cell_type": "markdown",
   "metadata": {},
   "source": [
    "#### Step 4 Create/Import scales and asisgn scales to ratings criteria"
   ]
  },
  {
   "cell_type": "code",
   "execution_count": 10,
   "metadata": {},
   "outputs": [],
   "source": [
    "#create ratings scales for each criterion\n",
    "scale1=rate.RatScale(\"1QualityScale\")\n",
    "scale1.defineScaleByValue(None,False,\n",
    "\"Excellent\",\"Above Average\",\"Average\",\"Poor\")\n",
    "\n",
    "scale2=rate.RatScale(\"2PriceScale\")\n",
    "scale2.defineScaleByValue(None,False,\n",
    "[\"6 to 8 dollars\", 51],\n",
    "[\"8 to 10 dollars\",52], \n",
    "[\"more than 10 dollars\",53])\n",
    "\n",
    "scale3=rate.RatScale(\"4SpeedScale\")\n",
    "scale3.defineScaleByValue(None,False,\n",
    "\"5 minutes\",\"10 minutes\",\"15 minutes\")\n",
    "\n",
    "#add scales to the model\n",
    "lunchModel.rateModel.addScaleByVar(scale1,scale2,scale3)\n",
    "\n",
    "# test assign same scale to the model multiple times\n",
    "lunchModel.rateModel.assignScale2CriterionByName(\"1Quality\",\"1QualityScale\")"
   ]
  },
  {
   "cell_type": "code",
   "execution_count": 11,
   "metadata": {},
   "outputs": [],
   "source": [
    "lunchModel.rateModel.assignScale2CriterionByName(\"2Price\",\"1QualityScale\")"
   ]
  },
  {
   "cell_type": "code",
   "execution_count": 12,
   "metadata": {},
   "outputs": [
    {
     "ename": "KeyboardInterrupt",
     "evalue": "",
     "output_type": "error",
     "traceback": [
      "\u001b[0;31m---------------------------------------------------------------------------\u001b[0m",
      "\u001b[0;31mKeyboardInterrupt\u001b[0m                         Traceback (most recent call last)",
      "\u001b[1;32m/Users/Shared/GITHUB/AhpAnpLib/BugTest/AttachSaveScles multipletimes/AHP Ratings_LunchExample.ipynb Cell 19\u001b[0m line \u001b[0;36m1\n\u001b[0;32m----> <a href='vscode-notebook-cell:/Users/Shared/GITHUB/AhpAnpLib/BugTest/AttachSaveScles%20multipletimes/AHP%20Ratings_LunchExample.ipynb#X33sZmlsZQ%3D%3D?line=0'>1</a>\u001b[0m lunchModel\u001b[39m.\u001b[39;49mrateModel\u001b[39m.\u001b[39;49massignScale2CriterionByName(\u001b[39m\"\u001b[39;49m\u001b[39m3Menu\u001b[39;49m\u001b[39m\"\u001b[39;49m,\u001b[39m\"\u001b[39;49m\u001b[39m1QualityScale\u001b[39;49m\u001b[39m\"\u001b[39;49m)\n",
      "File \u001b[0;32m/Library/Frameworks/Python.framework/Versions/3.11/lib/python3.11/site-packages/AhpAnpLib/ratings_AHPLib.py:171\u001b[0m, in \u001b[0;36mRatStruct.assignScale2CriterionByName\u001b[0;34m(self, criterionName, scaleName, verbal)\u001b[0m\n\u001b[1;32m    169\u001b[0m new_name\u001b[39m=\u001b[39mscaleName\u001b[39m+\u001b[39m\u001b[39m\"\u001b[39m\u001b[39m_cp\u001b[39m\u001b[39m\"\u001b[39m\n\u001b[1;32m    170\u001b[0m found_nm \u001b[39m=\u001b[39m \u001b[39many\u001b[39m(new_name \u001b[39min\u001b[39;00m scale\u001b[39m.\u001b[39mname \u001b[39mfor\u001b[39;00m scale \u001b[39min\u001b[39;00m \u001b[39mself\u001b[39m\u001b[39m.\u001b[39mratScales)\n\u001b[0;32m--> 171\u001b[0m \u001b[39mwhile\u001b[39;00m(found_nm):\n\u001b[1;32m    172\u001b[0m     new_name\u001b[39m+\u001b[39m\u001b[39m=\u001b[39m\u001b[39m\"\u001b[39m\u001b[39m_cp\u001b[39m\u001b[39m\"\u001b[39m\n\u001b[1;32m    173\u001b[0m scale2copy\u001b[39m.\u001b[39mname\u001b[39m=\u001b[39mnew_name\n",
      "\u001b[0;31mKeyboardInterrupt\u001b[0m: "
     ]
    }
   ],
   "source": [
    "lunchModel.rateModel.assignScale2CriterionByName(\"3Menu\",\"1QualityScale\")"
   ]
  },
  {
   "cell_type": "code",
   "execution_count": null,
   "metadata": {},
   "outputs": [],
   "source": [
    "lunchModel.rateModel.assignScale2CriterionByName(\"4Speed\",\"1QualityScale\")"
   ]
  }
 ],
 "metadata": {
  "kernelspec": {
   "display_name": "Python 3",
   "language": "python",
   "name": "python3"
  },
  "language_info": {
   "codemirror_mode": {
    "name": "ipython",
    "version": 3
   },
   "file_extension": ".py",
   "mimetype": "text/x-python",
   "name": "python",
   "nbconvert_exporter": "python",
   "pygments_lexer": "ipython3",
   "version": "3.11.2"
  },
  "orig_nbformat": 4
 },
 "nbformat": 4,
 "nbformat_minor": 2
}
